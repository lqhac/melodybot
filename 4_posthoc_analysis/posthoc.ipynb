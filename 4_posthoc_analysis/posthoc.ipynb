{
 "cells": [
  {
   "cell_type": "code",
   "execution_count": 55,
   "id": "83f3ba87-bc90-41b9-834b-d79a20b8c970",
   "metadata": {},
   "outputs": [],
   "source": [
    "import os, sys\n",
    "os.environ['PYTHONPATH'] = '/home/qihao/CS6207'\n",
    "sys.path.append('/home/qihao/CS6207')\n",
    "from utils.prosody_utils import *\n",
    "from nltk.translate.bleu_score import sentence_bleu"
   ]
  },
  {
   "cell_type": "code",
   "execution_count": 56,
   "id": "142f819e-cac2-47e3-bbb1-e1fe971c9d4f",
   "metadata": {},
   "outputs": [],
   "source": [
    "gen_dir = 'melody_20240405:203238'\n",
    "gen_date = gen_dir.split('_')[-1]\n",
    "gen_melody_dir = f'/home/qihao/CS6207/output_melody/melody_{gen_date}'\n",
    "gt_melody_dir = f'/home/qihao/CS6207/output_melody/melody_gt_{gen_date}'\n",
    "binary_dir = f'/home/qihao/CS6207/binary'"
   ]
  },
  {
   "cell_type": "code",
   "execution_count": 57,
   "id": "4d0e0d07-bc85-48f1-9cdf-19460ea47027",
   "metadata": {},
   "outputs": [],
   "source": [
    "gen_melodies = glob.glob(os.path.join(gen_melody_dir, '*.mid'))"
   ]
  },
  {
   "cell_type": "code",
   "execution_count": 58,
   "id": "3a972a52-991c-4278-9684-844a0844c077",
   "metadata": {},
   "outputs": [],
   "source": [
    "event2word_dict, word2event_dict = pickle.load(open(f\"{binary_dir}/music_dict.pkl\", 'rb'))\n",
    "test_data = np.load(f\"{binary_dir}/words/test_words.npy\", allow_pickle=True)"
   ]
  },
  {
   "cell_type": "code",
   "execution_count": 59,
   "id": "8a84e8ee-7603-4128-9aab-7b2e93da165c",
   "metadata": {},
   "outputs": [
    {
     "data": {
      "text/plain": [
       "'hi'"
      ]
     },
     "execution_count": 59,
     "metadata": {},
     "output_type": "execute_result"
    }
   ],
   "source": [
    "\"<hi \".strip().replace('<', '')"
   ]
  },
  {
   "cell_type": "code",
   "execution_count": 60,
   "id": "d1b60871-b4ba-4eee-927a-bbd479f1a483",
   "metadata": {},
   "outputs": [
    {
     "name": "stdout",
     "output_type": "stream",
     "text": [
      "/home/qihao/CS6207/dataset/test/没有你陪伴我真的好孤单_seg0_1_Seg1.mid\n",
      "<s>  <sent>  Pitch_69  <strong>  <short>  <substrong>  <short>  <weak>  <short>  <strong>  <short>  <substrong>  <short>  Pitch_72  <strong>  <short>  <weak>  <short>  <substrong>  <short>  <weak>  <short>  Pitch_69  <strong>  <short>  <sent>  Pitch_67  <strong>  <short>  <weak>  <short>  <substrong>  <short>  <weak>  <short>  Pitch_72  <strong>  <short>  <substrong>  <short>  <weak>  <short>  Pitch_69  <strong>  <short>  <strong>  <long>  <sent>  Pitch_74  <strong>  <short>  <weak>  <short>  <substrong>  <short>  <weak>  <short>  Pitch_76  <substrong>  <short>  <substrong>  <short>  <substrong>  <short>  Pitch_69  <strong>  <short>  <substrong>  <short>  <strong>  <short>  <substrong>  <short>  Pitch_74  <strong>  <short>  <sent>  Pitch_72  <strong>  <short>  <substrong>  <short>  <substrong>  <short>  <weak>  <short>  Pitch_69  <substrong>  <long>  <sent>  Pitch_67  <strong>  <short>  <substrong>  <short>  <strong>  <short>  <weak>  <short>  Pitch_62  <substrong>  <short>  <sent>  Pitch_69  <strong>  <short>  <substrong>  <short>  <weak>  <short>  <substrong>  <short>  <weak>  <short>  Pitch_72  <strong>  <short>  <weak>  <short>  <substrong>  <short>  <weak>  <short>  Pitch_69  <strong>  <long>  <sent>  Pitch_67  <strong>  <short>  <substrong>  <short>  <weak>  <short>  <strong>  <short>  <weak>  <short>  Pitch_72  <strong>  <short>  <weak>  <short>  <weak>  <short>  Pitch_69  <strong>  <short>  <substrong>  <long>  <sent>  Pitch_74  <strong>  <short>  <weak>  <short>  <substrong>  <short>  <weak>  <short>  Pitch_76  <substrong>  <short>  <substrong>  <short>  <weak>  <short>  Pitch_69  <strong>  <short>  <substrong>  <short>  <substrong>  <short>  <weak>  <short>  Pitch_74  <substrong>  <short>  <sent>  <weak>  <short>  Pitch_79  <weak>  <short>  <weak>  <short>  Pitch_77  <strong>  <short>  <weak>  <short>  <sent>  Pitch_76  <strong>  <short>  <weak>  <short>  <substrong>  <short>  <weak>  <short>  Pitch_74  <substrong>  <short>  <sent>  Pitch_74  <strong>  <short>  <weak>  <short>  <substrong>  <short>  <weak>  <short>  Pitch_79  <substrong>  <short>  <substrong>  <short>  <weak>  <short>  Pitch_69  <strong>  <short>  <weak>  <short>  <substrong>  <short>  <weak>  <short>  Pitch_74  <strong>  <short>  <sent>  <substrong>  <short>  <weak>  <short>  Pitch_74  <strong>  <short>  <weak>  <short>  <substrong>  <short>  <weak>  <short>  Pitch_79  <strong>  <short>  <weak>  <short>  <substrong>  <short>  <weak>  <short>  Pitch_81  <strong>  <long>  <sent>  Pitch_77  <substrong>  <short>  <weak>  <short>  Pitch_81  <strong>  <short>  <weak>  <short>  <substrong>  <short>  <weak>  <short>  Pitch_79  <substrong>  <short>  <substrong>  <short>  <weak>  <short>  Pitch_79  <strong>  <short>  <substrong>  <short>  <weak>  <short>  Pitch_77  <strong>  <short>  <substrong>  <short>  <substrong>  <short>  <weak>  <short>  Pitch_77  <strong>  <short>  <substrong>  <short>  <strong>  <short>  <weak>  <short>  Pitch_76  <substrong>  <short>  <substrong>  <short>  <weak>  <short>  Pitch_74  <strong>  <long>  <sent>  Pitch_72  <substrong>  <short>  Pitch_74  <strong>  <short>  <substrong>  <short>  <strong>  <short>  <weak>  <short>  Pitch_79  <substrong>  <short>  <substrong>  <short>  <weak>  <short>  Pitch_69  <strong>  <short>  <weak>  <short>  <strong>  <short>  <weak>  <short>  Pitch_74  <substrong>  <short>  <sent>  <substrong>  <short>  <weak>  <short>  Pitch_74  <strong>  <short>  <weak>  <short>  <substrong>  <short>  <weak>  <short>  Pitch_79  <strong>  <short>  <weak>  <short>  <substrong>  <short>  <weak>  <short>  Pitch_81  <strong>  <long>  <sent>  Pitch_79  <substrong>  <short>  <weak>  <short>  Pitch_81  <strong>  <short>  <weak>  <short>  <substrong>  <short>  <weak>  <short>  Pitch_79  <substrong>  <short>  <sent>  <substrong>  <short>  <weak>  <short>  Pitch_79  <strong>  <short>  <substrong>  <short>  <strong>  <long>  <sent>  Pitch_79  <strong>  <short>  <weak>  <short>  <substrong>  <short>  <weak>  <short>  Pitch_77  <strong>  <short>  <weak>  <short>  <substrong>  <short>  <weak>  <short>  Pitch_76  <strong>  <short>  <substrong>  <short>  <substrong>  <short>  <weak>  <short>  Pitch_74  <weak>  <short>  </s>  \n",
      "\n",
      "<s>  <sent>  Bar  Pos_0  Pitch_69  Dur_240  Pos_240  Pitch_69  Dur_120  Pos_360  Pitch_69  Dur_120  Pos_480  Pitch_69  Dur_120  Pos_720  Pitch_74  Dur_120  Pos_960  Pitch_72  Dur_240  Pos_1200  Pitch_72  Dur_240  Pos_1440  Pitch_69  Dur_240  Pos_1680  Pitch_67  Dur_240  Bar  Pos_0  Pitch_69  Dur_240  <sent>  Bar  Pos_0  Pitch_72  Dur_240  Pos_240  Pitch_67  Dur_240  Pos_480  Pitch_67  Dur_240  Pos_720  Pitch_74  Dur_240  Pos_960  Pitch_72  Dur_240  Pos_1200  Pitch_72  Dur_120  Pos_1440  Pitch_74  Dur_480  Bar  Pos_0  Pitch_72  Dur_240  Pos_240  Pitch_69  Dur_720  <sent>  Bar  Pos_0  Pitch_74  Dur_120  Pos_240  Pitch_74  Dur_240  Pos_480  Pitch_74  Dur_240  Pos_720  Pitch_77  Dur_240  Pos_960  Pitch_76  Dur_480  Pos_1440  Pitch_74  Dur_240  Pos_1680  Pitch_72  Dur_120  Bar  Pos_0  Pitch_69  Dur_240  Pos_240  Pitch_69  Dur_120  Pos_480  Pitch_69  Dur_120  Pos_720  Pitch_76  Dur_120  Pos_960  Pitch_74  Dur_240  <sent>  Bar  Pos_0  Pitch_72  Dur_240  Pos_240  Pitch_67  Dur_120  Pos_480  Pitch_74  Dur_240  Pos_720  Pitch_72  Dur_240  Pos_960  Pitch_69  Dur_600  <sent>  Bar  Pos_0  Pitch_67  Dur_240  Pos_240  Pitch_67  Dur_120  Pos_360  Pitch_65  Dur_360  Pos_720  Pitch_64  Dur_240  Pos_960  Pitch_62  Dur_480  <sent>  Bar  Pos_0  Pitch_69  Dur_240  Pos_240  Pitch_69  Dur_120  Pos_360  Pitch_69  Dur_120  Pos_480  Pitch_69  Dur_240  Pos_720  Pitch_74  Dur_240  Pos_960  Pitch_72  Dur_240  Pos_1200  Pitch_72  Dur_240  Pos_1440  Pitch_69  Dur_240  Pos_1680  Pitch_67  Dur_240  Bar  Pos_0  Pitch_69  Dur_720  <sent>  Bar  Pos_0  Pitch_72  Dur_240  Pos_240  Pitch_67  Dur_120  Pos_360  Pitch_67  Dur_120  Pos_480  Pitch_67  Dur_120  Pos_720  Pitch_74  Dur_240  Pos_960  Pitch_72  Dur_240  Pos_1200  Pitch_72  Dur_240  Pos_1440  Pitch_74  Dur_480  Bar  Pos_0  Pitch_72  Dur_240  Pos_240  Pitch_69  Dur_960  <sent>  Bar  Pos_0  Pitch_74  Dur_240  Pos_240  Pitch_74  Dur_240  Pos_480  Pitch_74  Dur_240  Pos_720  Pitch_77  Dur_240  Pos_960  Pitch_76  Dur_360  Pos_1320  Pitch_74  Dur_360  Pos_1680  Pitch_72  Dur_240  Bar  Pos_0  Pitch_69  Dur_240  Pos_240  Pitch_69  Dur_120  Pos_480  Pitch_69  Dur_240  Pos_720  Pitch_76  Dur_240  Pos_960  Pitch_74  Dur_360  <sent>  Pos_1800  Pitch_74  Dur_360  Bar  Pos_240  Pitch_77  Dur_240  Pos_480  Pitch_79  Dur_480  Pos_960  Pitch_77  Dur_240  Pos_1200  Pitch_76  Dur_240  <sent>  Bar  Pos_0  Pitch_76  Dur_120  Pos_240  Pitch_76  Dur_240  Pos_480  Pitch_74  Dur_240  Pos_720  Pitch_72  Dur_240  Pos_960  Pitch_74  Dur_360  <sent>  Bar  Bar  Pos_0  Pitch_74  Dur_240  Pos_240  Pitch_74  Dur_240  Pos_480  Pitch_74  Dur_240  Pos_720  Pitch_81  Dur_240  Pos_960  Pitch_79  Dur_360  Pos_1440  Pitch_76  Dur_240  Pos_1680  Pitch_74  Dur_240  Bar  Pos_0  Pitch_72  Dur_240  Pos_240  Pitch_69  Dur_240  Pos_480  Pitch_69  Dur_240  Pos_720  Pitch_76  Dur_240  Pos_960  Pitch_74  Dur_240  <sent>  Pos_1560  Pitch_69  Dur_240  Pos_1800  Pitch_72  Dur_120  Bar  Pos_0  Pitch_74  Dur_240  Pos_240  Pitch_74  Dur_240  Pos_480  Pitch_76  Dur_240  Pos_720  Pitch_77  Dur_240  Pos_960  Pitch_76  Dur_240  Pos_1200  Pitch_72  Dur_240  Pos_1440  Pitch_77  Dur_240  Pos_1680  Pitch_79  Dur_240  Bar  Pos_0  Pitch_81  Dur_1440  <sent>  Pos_1560  Pitch_77  Dur_240  Pos_1800  Pitch_79  Dur_120  Bar  Pos_0  Pitch_81  Dur_240  Pos_240  Pitch_79  Dur_240  Pos_480  Pitch_77  Dur_240  Pos_720  Pitch_81  Dur_240  Pos_960  Pitch_79  Dur_480  Pos_1560  Pitch_76  Dur_240  Pos_1800  Pitch_77  Dur_120  Bar  Pos_0  Pitch_79  Dur_240  Pos_240  Pitch_79  Dur_120  Pos_480  Pitch_81  Dur_480  Pos_960  Pitch_79  Dur_240  Pos_1200  Pitch_77  Dur_360  Pos_1560  Pitch_74  Dur_240  Pos_1800  Pitch_76  Dur_120  Bar  Pos_0  Pitch_77  Dur_240  Pos_240  Pitch_77  Dur_120  Pos_360  Pitch_79  Dur_360  Pos_720  Pitch_81  Dur_240  Pos_960  Pitch_76  Dur_480  Pos_1440  Pitch_72  Dur_240  Pos_1680  Pitch_76  Dur_480  Bar  Pos_240  Pitch_74  Dur_1200  <sent>  Pos_1680  Pitch_72  Dur_120  Bar  Pos_0  Pitch_74  Dur_240  Pos_240  Pitch_74  Dur_120  Pos_480  Pitch_74  Dur_120  Pos_600  Pitch_81  Dur_360  Pos_960  Pitch_79  Dur_480  Pos_1440  Pitch_76  Dur_240  Pos_1680  Pitch_74  Dur_240  Bar  Pos_0  Pitch_72  Dur_240  Pos_240  Pitch_69  Dur_240  Pos_480  Pitch_69  Dur_120  Pos_720  Pitch_76  Dur_240  Pos_960  Pitch_74  Dur_360  <sent>  Pos_1560  Pitch_69  Dur_240  Pos_1800  Pitch_72  Dur_120  Bar  Pos_0  Pitch_74  Dur_240  Pos_240  Pitch_74  Dur_240  Pos_480  Pitch_76  Dur_240  Pos_720  Pitch_77  Dur_240  Pos_960  Pitch_76  Dur_240  Pos_1200  Pitch_72  Dur_240  Pos_1440  Pitch_77  Dur_240  Pos_1680  Pitch_79  Dur_240  Bar  Pos_0  Pitch_81  Dur_1320  <sent>  Pos_1680  Pitch_77  Dur_120  Pos_1800  Pitch_79  Dur_120  Bar  Pos_0  Pitch_81  Dur_240  Pos_240  Pitch_79  Dur_240  Pos_480  Pitch_77  Dur_240  Pos_720  Pitch_81  Dur_240  Pos_960  Pitch_79  Dur_360  <sent>  Pos_1680  Pitch_76  Dur_120  Pos_1800  Pitch_77  Dur_120  Bar  Pos_0  Pitch_79  Dur_240  Pos_240  Pitch_79  Dur_120  Pos_360  Pitch_81  Dur_600  <sent>  Pos_960  Pitch_79  Dur_240  Pos_1200  Pitch_77  Dur_240  Pos_1560  Pitch_74  Dur_240  Pos_1800  Pitch_76  Dur_120  Bar  Pos_0  Pitch_77  Dur_240  Pos_240  Pitch_77  Dur_240  Pos_480  Pitch_79  Dur_240  Pos_720  Pitch_77  Dur_240  Pos_960  Pitch_76  Dur_240  Pos_1200  Pitch_74  Dur_120  Pos_1320  Pitch_72  Dur_360  Pos_1680  Pitch_76  Dur_480  Bar  Pos_240  Pitch_74  Dur_240  </s>  \n",
      "\n",
      "\n",
      "/home/qihao/CS6207/dataset/test/剪爱_seg0_1_Seg2.mid\n",
      "<s>  <sent>  Pitch_67  <weak>  <short>  Pitch_69  <substrong>  <short>  <weak>  <short>  Pitch_67  <strong>  <long>  <sent>  Pitch_72  <weak>  <short>  Pitch_71  <strong>  <long>  <weak>  <long>  <sent>  Pitch_67  <substrong>  <long>  <sent>  Pitch_64  <weak>  <short>  Pitch_64  <strong>  <short>  <substrong>  <short>  <strong>  <long>  <sent>  Pitch_69  <weak>  <short>  Pitch_62  <weak>  <short>  <weak>  <long>  <sent>  Pitch_64  <substrong>  <long>  Pitch_65  <weak>  <short>  Pitch_65  <substrong>  <long>  <sent>  <weak>  <short>  Pitch_65  <strong>  <short>  <weak>  <long>  <sent>  Pitch_76  <weak>  <short>  Pitch_76  <substrong>  <short>  <weak>  <short>  Pitch_72  <strong>  <short>  <weak>  <long>  <sent>  Pitch_69  <strong>  <short>  <strong>  <long>  <sent>  Pitch_69  <weak>  <short>  Pitch_76  <substrong>  <short>  <substrong>  <short>  <weak>  <short>  Pitch_74  <strong>  <long>  <sent>  <substrong>  <long>  Pitch_67  <weak>  <short>  Pitch_76  <strong>  <long>  <sent>  Pitch_77  <weak>  <short>  Pitch_76  <substrong>  <short>  <weak>  <short>  Pitch_74  <strong>  <short>  <weak>  <short>  Pitch_76  <substrong>  <short>  <weak>  <short>  Pitch_69  <strong>  <short>  <weak>  <long>  <sent>  Pitch_69  <weak>  <short>  Pitch_77  <strong>  <short>  <weak>  <short>  Pitch_77  <substrong>  <long>  <sent>  Pitch_81  <weak>  <short>  Pitch_79  <substrong>  <short>  <weak>  <short>  Pitch_77  <strong>  <short>  <weak>  <short>  Pitch_76  <substrong>  <short>  <weak>  <short>  Pitch_76  <strong>  <long>  <sent>  Pitch_72  <weak>  <short>  Pitch_79  <strong>  <short>  <weak>  <long>  <sent>  Pitch_79  <strong>  <short>  <weak>  <short>  <weak>  <short>  Pitch_76  <strong>  <short>  <weak>  <short>  <weak>  <short>  Pitch_77  <strong>  <short>  <weak>  <short>  Pitch_77  <substrong>  <short>  <weak>  <short>  Pitch_72  <strong>  <long>  <sent>  Pitch_67  <weak>  <short>  Pitch_76  <strong>  <short>  <weak>  <short>  <substrong>  <short>  <weak>  <short>  Pitch_72  <weak>  <short>  <weak>  <short>  Pitch_81  <strong>  <short>  <weak>  <long>  <sent>  Pitch_74  <weak>  <short>  Pitch_74  <strong>  <short>  <weak>  <short>  Pitch_74  <substrong>  <short>  <weak>  <short>  <weak>  <long>  <sent>  Pitch_67  <weak>  <short>  Pitch_76  <strong>  <short>  <weak>  <short>  <weak>  <long>  <sent>  Pitch_72  <weak>  <short>  <weak>  <long>  <sent>  Pitch_77  <weak>  <short>  Pitch_76  <substrong>  <short>  <weak>  <short>  Pitch_74  <strong>  <short>  <weak>  <short>  Pitch_76  <substrong>  <short>  <weak>  <short>  Pitch_74  <strong>  <short>  <weak>  <short>  <substrong>  <short>  <substrong>  <long>  <sent>  Pitch_69  <weak>  <short>  Pitch_77  <strong>  <short>  <substrong>  <short>  <weak>  <long>  <sent>  Pitch_81  <weak>  <short>  Pitch_79  <substrong>  <short>  <weak>  <short>  Pitch_77  <strong>  <short>  <weak>  <short>  Pitch_76  <substrong>  <short>  <substrong>  <short>  <substrong>  <long>  <sent>  Pitch_72  <weak>  <short>  Pitch_79  <strong>  <short>  <substrong>  <short>  <weak>  <long>  <sent>  Pitch_79  <strong>  <short>  <weak>  <short>  <substrong>  <short>  <weak>  <short>  Pitch_77  <substrong>  <short>  <weak>  <short>  Pitch_77  <strong>  <short>  <weak>  <short>  Pitch_77  <substrong>  <short>  <weak>  <short>  Pitch_72  <strong>  <long>  <sent>  Pitch_67  <weak>  <short>  Pitch_76  <strong>  <short>  <strong>  <short>  <weak>  <short>  Pitch_76  <substrong>  <short>  <substrong>  <short>  <weak>  <short>  Pitch_74  <strong>  <long>  <sent>  <weak>  <short>  Pitch_72  <substrong>  <short>  <weak>  <short>  Pitch_72  <substrong>  <long>  <sent>  Pitch_76  <strong>  <long>  Pitch_72  <weak>  <short>  <weak>  <short>  Pitch_72  <strong>  <long>  <sent>  Pitch_67  <weak>  <short>  Pitch_76  <strong>  <short>  <strong>  <short>  <weak>  <short>  Pitch_74  <substrong>  <short>  <weak>  <short>  Pitch_74  <strong>  <short>  <strong>  <long>  Pitch_72  <substrong>  <long>  <sent>  <weak>  <long>  <sent>  Pitch_67  <substrong>  <short>  <weak>  <short>  Pitch_69  <strong>  <long>  <sent>  Pitch_62  <weak>  <short>  Pitch_67  <substrong>  <short>  <weak>  <short>  Pitch_74  <strong>  <long>  <sent>  <weak>  <long>  Pitch_72  <weak>  <short>  Pitch_72  <strong>  <long>  <sent>  Pitch_71  <substrong>  <long>  </s>  \n",
      "\n",
      "<s>  <sent>  Bar  Pos_480  Pitch_67  Dur_480  Pos_960  Pitch_67  Dur_480  Pos_1440  Pitch_69  Dur_480  Bar  Pos_0  Pitch_67  Dur_1440  <sent>  Pos_1440  Pitch_72  Dur_480  Bar  Pos_0  Pitch_71  Dur_600  Pos_600  Pitch_69  Dur_600  <sent>  Pos_1200  Pitch_67  Dur_1920  <sent>  Bar  Bar  Pos_480  Pitch_64  Dur_480  Pos_960  Pitch_64  Dur_240  Pos_1200  Pitch_62  Dur_480  Pos_1680  Pitch_64  Dur_1920  <sent>  Bar  Pos_1800  Pitch_69  Dur_480  Bar  Pos_360  Pitch_64  Dur_240  Pos_600  Pitch_62  Dur_600  <sent>  Pos_1200  Pitch_64  Dur_1920  Bar  Bar  Pos_480  Pitch_65  Dur_480  Pos_960  Pitch_65  Dur_600  <sent>  Pos_1560  Pitch_64  Dur_360  Bar  Pos_0  Pitch_67  Dur_480  Pos_480  Pitch_65  Dur_1920  <sent>  Bar  Pos_480  Pitch_76  Dur_480  Pos_960  Pitch_76  Dur_480  Pos_1440  Pitch_74  Dur_480  Bar  Pos_0  Pitch_74  Dur_480  Pos_480  Pitch_72  Dur_1440  <sent>  Bar  Pos_0  Pitch_76  Dur_480  Pos_480  Pitch_69  Dur_1920  <sent>  Bar  Pos_720  Pitch_69  Dur_240  Pos_960  Pitch_76  Dur_480  Pos_1440  Pitch_74  Dur_240  Pos_1680  Pitch_72  Dur_240  Bar  Pos_0  Pitch_76  Dur_720  <sent>  Pos_720  Pitch_74  Dur_1920  Bar  Pos_1440  Pitch_67  Dur_480  Bar  Pos_0  Pitch_76  Dur_1920  <sent>  Bar  Pos_480  Pitch_77  Dur_480  Pos_960  Pitch_76  Dur_480  Pos_1440  Pitch_67  Dur_480  Bar  Pos_0  Pitch_74  Dur_480  Pos_480  Pitch_74  Dur_480  Pos_960  Pitch_74  Dur_480  Pos_1440  Pitch_76  Dur_480  Bar  Pos_0  Pitch_74  Dur_480  Pos_480  Pitch_69  Dur_1200  <sent>  Pos_1680  Pitch_69  Dur_240  Bar  Pos_0  Pitch_77  Dur_480  Pos_480  Pitch_77  Dur_480  Pos_960  Pitch_77  Dur_1440  <sent>  Bar  Pos_480  Pitch_81  Dur_480  Pos_960  Pitch_79  Dur_480  Pos_1440  Pitch_77  Dur_480  Bar  Pos_0  Pitch_77  Dur_480  Pos_480  Pitch_76  Dur_480  Pos_960  Pitch_76  Dur_480  Pos_1440  Pitch_74  Dur_480  Bar  Pos_0  Pitch_76  Dur_1680  <sent>  Pos_1680  Pitch_72  Dur_240  Bar  Pos_0  Pitch_79  Dur_480  Pos_480  Pitch_79  Dur_1440  <sent>  Bar  Pos_0  Pitch_76  Dur_240  Pos_240  Pitch_77  Dur_240  Pos_480  Pitch_79  Dur_480  Pos_960  Pitch_79  Dur_240  Pos_1200  Pitch_77  Dur_240  Pos_1440  Pitch_76  Dur_480  Bar  Pos_0  Pitch_77  Dur_480  Pos_480  Pitch_77  Dur_480  Pos_960  Pitch_77  Dur_480  Pos_1440  Pitch_69  Dur_480  Bar  Pos_0  Pitch_72  Dur_1560  <sent>  Pos_1560  Pitch_67  Dur_360  Bar  Pos_0  Pitch_76  Dur_360  Pos_360  Pitch_74  Dur_240  Pos_600  Pitch_72  Dur_240  Pos_840  Pitch_76  Dur_480  Pos_1320  Pitch_74  Dur_240  Pos_1560  Pitch_72  Dur_360  Bar  Pos_0  Pitch_76  Dur_480  Pos_840  Pitch_81  Dur_600  <sent>  Pos_1440  Pitch_74  Dur_480  Bar  Pos_0  Pitch_74  Dur_480  Pos_480  Pitch_72  Dur_480  Pos_960  Pitch_74  Dur_360  Pos_1320  Pitch_72  Dur_240  Pos_1560  Pitch_74  Dur_1800  <sent>  Bar  Pos_1440  Pitch_67  Dur_480  Bar  Pos_0  Pitch_76  Dur_360  Pos_360  Pitch_74  Dur_120  Pos_480  Pitch_76  Dur_720  <sent>  Pos_1200  Pitch_74  Dur_240  Pos_1440  Pitch_72  Dur_960  <sent>  Bar  Pos_480  Pitch_77  Dur_480  Pos_960  Pitch_76  Dur_480  Pos_1440  Pitch_67  Dur_480  Bar  Pos_0  Pitch_74  Dur_480  Pos_480  Pitch_74  Dur_480  Pos_960  Pitch_74  Dur_480  Pos_1440  Pitch_76  Dur_480  Bar  Pos_0  Pitch_74  Dur_360  Pos_360  Pitch_76  Dur_120  Pos_480  Pitch_74  Dur_240  Pos_720  Pitch_72  Dur_960  <sent>  Pos_1680  Pitch_69  Dur_240  Bar  Pos_0  Pitch_77  Dur_480  Pos_480  Pitch_77  Dur_240  Pos_720  Pitch_77  Dur_1680  <sent>  Bar  Pos_480  Pitch_81  Dur_480  Pos_960  Pitch_79  Dur_480  Pos_1440  Pitch_77  Dur_480  Bar  Pos_0  Pitch_77  Dur_480  Pos_480  Pitch_76  Dur_480  Pos_960  Pitch_76  Dur_480  Pos_1440  Pitch_74  Dur_240  Pos_1680  Pitch_76  Dur_1920  <sent>  Bar  Pos_1680  Pitch_72  Dur_240  Bar  Pos_0  Pitch_79  Dur_480  Pos_480  Pitch_79  Dur_240  Pos_720  Pitch_79  Dur_1200  <sent>  Bar  Pos_0  Pitch_76  Dur_240  Pos_240  Pitch_77  Dur_240  Pos_480  Pitch_79  Dur_240  Pos_720  Pitch_79  Dur_480  Pos_1200  Pitch_77  Dur_480  Pos_1680  Pitch_76  Dur_240  Bar  Pos_0  Pitch_77  Dur_480  Pos_480  Pitch_77  Dur_480  Pos_960  Pitch_77  Dur_480  Pos_1440  Pitch_69  Dur_480  Bar  Pos_0  Pitch_72  Dur_1680  <sent>  Pos_1680  Pitch_67  Dur_240  Bar  Pos_0  Pitch_76  Dur_360  Pos_360  Pitch_74  Dur_360  Pos_720  Pitch_72  Dur_240  Pos_960  Pitch_76  Dur_480  Pos_1440  Pitch_74  Dur_240  Pos_1680  Pitch_72  Dur_240  Bar  Pos_0  Pitch_74  Dur_720  <sent>  Pos_720  Pitch_74  Dur_240  Pos_1200  Pitch_72  Dur_480  Pos_1680  Pitch_71  Dur_480  Bar  Pos_240  Pitch_72  Dur_1920  <sent>  Bar  Bar  Pos_0  Pitch_76  Dur_1200  Pos_1200  Pitch_74  Dur_240  Pos_1440  Pitch_72  Dur_480  Bar  Pos_0  Pitch_72  Dur_1680  <sent>  Pos_1680  Pitch_67  Dur_240  Bar  Pos_0  Pitch_76  Dur_360  Pos_360  Pitch_74  Dur_360  Pos_720  Pitch_72  Dur_360  Pos_1080  Pitch_76  Dur_360  Pos_1440  Pitch_74  Dur_480  Bar  Pos_0  Pitch_72  Dur_360  Pos_360  Pitch_74  Dur_600  Pos_960  Pitch_74  Dur_720  <sent>  Pos_1680  Pitch_72  Dur_840  <sent>  Bar  Pos_600  Pitch_69  Dur_240  Pos_840  Pitch_67  Dur_360  Pos_1200  Pitch_69  Dur_1920  <sent>  Bar  Bar  Pos_600  Pitch_62  Dur_480  Pos_1080  Pitch_64  Dur_480  Pos_1560  Pitch_67  Dur_480  Bar  Pos_120  Pitch_76  Dur_600  <sent>  Pos_720  Pitch_74  Dur_1920  Bar  Pos_1560  Pitch_72  Dur_480  Bar  Pos_120  Pitch_72  Dur_1200  <sent>  Pos_1320  Pitch_71  Dur_720  </s>  \n",
      "\n",
      "\n",
      "/home/qihao/CS6207/dataset/test/在那遥远的地方_seg0_1_Seg3.mid\n",
      "<s>  <sent>  Pitch_72  <substrong>  <short>  <weak>  <short>  Pitch_74  <strong>  <short>  <substrong>  <short>  <weak>  <short>  Pitch_72  <substrong>  <short>  <weak>  <short>  Pitch_74  <strong>  <long>  <sent>  Pitch_72  <substrong>  <short>  <weak>  <short>  Pitch_72  <strong>  <short>  <weak>  <short>  Pitch_72  <substrong>  <short>  <weak>  <short>  Pitch_69  <strong>  <long>  <sent>  Pitch_72  <strong>  <short>  <weak>  <short>  Pitch_74  <substrong>  <short>  <substrong>  <short>  <weak>  <short>  Pitch_69  <strong>  <short>  <weak>  <short>  Pitch_67  <substrong>  <short>  <weak>  <short>  Pitch_72  <strong>  <short>  <weak>  <short>  Pitch_67  <substrong>  <short>  <weak>  <short>  Pitch_69  <strong>  <short>  <substrong>  <short>  <weak>  <short>  Pitch_64  <weak>  <long>  <sent>  Pitch_62  <weak>  <long>  Pitch_72  <strong>  <short>  <weak>  <short>  Pitch_74  <substrong>  <short>  <substrong>  <short>  <weak>  <short>  Pitch_69  <strong>  <short>  <weak>  <short>  Pitch_67  <substrong>  <short>  <weak>  <short>  Pitch_72  <strong>  <short>  <weak>  <short>  Pitch_67  <substrong>  <short>  <weak>  <short>  Pitch_69  <strong>  <short>  <substrong>  <short>  <weak>  <short>  Pitch_64  <weak>  <long>  <sent>  Pitch_62  <weak>  <long>  Pitch_72  <strong>  <short>  <weak>  <short>  Pitch_74  <substrong>  <short>  <substrong>  <short>  <weak>  <short>  Pitch_69  <strong>  <short>  <weak>  <short>  Pitch_67  <substrong>  <short>  <weak>  <short>  Pitch_72  <strong>  <short>  <weak>  <short>  Pitch_67  <substrong>  <short>  <weak>  <short>  Pitch_69  <strong>  <short>  <substrong>  <short>  <weak>  <short>  Pitch_64  <weak>  <long>  <sent>  Pitch_62  <weak>  <long>  Pitch_72  <strong>  <short>  <weak>  <short>  Pitch_74  <substrong>  <short>  <substrong>  <short>  <weak>  <short>  Pitch_69  <strong>  <short>  <weak>  <short>  Pitch_67  <substrong>  <short>  <weak>  <short>  Pitch_72  <strong>  <short>  <weak>  <short>  Pitch_67  <substrong>  <short>  <weak>  <short>  Pitch_69  <strong>  <short>  <substrong>  <short>  <weak>  <short>  Pitch_64  <weak>  <long>  </s>  \n",
      "\n",
      "<s>  <sent>  Bar  Pos_960  Pitch_69  Dur_480  Pos_1440  Pitch_72  Dur_480  Bar  Pos_0  Pitch_74  Dur_480  Pos_480  Pitch_72  Dur_240  Pos_720  Pitch_71  Dur_240  Pos_960  Pitch_69  Dur_480  Pos_1440  Pitch_72  Dur_480  Bar  Pos_0  Pitch_74  Dur_1440  <sent>  Pos_1440  Pitch_72  Dur_240  Pos_1680  Pitch_71  Dur_240  Bar  Pos_0  Pitch_69  Dur_480  Pos_480  Pitch_72  Dur_480  Pos_960  Pitch_72  Dur_480  Pos_1440  Pitch_71  Dur_480  Bar  Pos_0  Pitch_69  Dur_1920  <sent>  Bar  Pos_0  Pitch_69  Dur_480  Pos_480  Pitch_72  Dur_480  Pos_960  Pitch_74  Dur_480  Pos_1440  Pitch_72  Dur_240  Pos_1680  Pitch_69  Dur_240  Bar  Pos_0  Pitch_67  Dur_480  Pos_480  Pitch_69  Dur_480  Pos_960  Pitch_65  Dur_480  Pos_1440  Pitch_67  Dur_480  Bar  Pos_0  Pitch_69  Dur_480  Pos_480  Pitch_72  Dur_480  Pos_960  Pitch_65  Dur_480  Pos_1440  Pitch_67  Dur_480  Bar  Pos_0  Pitch_69  Dur_480  Pos_480  Pitch_67  Dur_240  Pos_720  Pitch_65  Dur_240  Pos_960  Pitch_64  Dur_960  <sent>  Bar  Pos_0  Pitch_62  Dur_1920  Bar  Bar  Pos_0  Pitch_69  Dur_480  Pos_480  Pitch_72  Dur_480  Pos_960  Pitch_74  Dur_480  Pos_1440  Pitch_72  Dur_240  Pos_1680  Pitch_69  Dur_240  Bar  Pos_0  Pitch_67  Dur_480  Pos_480  Pitch_69  Dur_480  Pos_960  Pitch_65  Dur_480  Pos_1440  Pitch_67  Dur_480  Bar  Pos_0  Pitch_69  Dur_480  Pos_480  Pitch_72  Dur_480  Pos_960  Pitch_65  Dur_480  Pos_1440  Pitch_67  Dur_480  Bar  Pos_0  Pitch_69  Dur_480  Pos_480  Pitch_67  Dur_240  Pos_720  Pitch_65  Dur_240  Pos_960  Pitch_64  Dur_960  <sent>  Bar  Pos_0  Pitch_62  Dur_1920  Bar  Bar  Pos_0  Pitch_69  Dur_480  Pos_480  Pitch_72  Dur_480  Pos_960  Pitch_74  Dur_480  Pos_1440  Pitch_72  Dur_240  Pos_1680  Pitch_69  Dur_240  Bar  Pos_0  Pitch_67  Dur_480  Pos_480  Pitch_69  Dur_480  Pos_960  Pitch_65  Dur_480  Pos_1440  Pitch_67  Dur_480  Bar  Pos_0  Pitch_69  Dur_480  Pos_480  Pitch_72  Dur_480  Pos_960  Pitch_65  Dur_480  Pos_1440  Pitch_67  Dur_480  Bar  Pos_0  Pitch_69  Dur_480  Pos_480  Pitch_67  Dur_240  Pos_720  Pitch_65  Dur_240  Pos_960  Pitch_64  Dur_960  <sent>  Bar  Pos_0  Pitch_62  Dur_1920  Bar  Bar  Pos_0  Pitch_69  Dur_480  Pos_480  Pitch_72  Dur_480  Pos_960  Pitch_74  Dur_480  Pos_1440  Pitch_72  Dur_240  Pos_1680  Pitch_69  Dur_240  Bar  Pos_0  Pitch_67  Dur_480  Pos_480  Pitch_69  Dur_480  Pos_960  Pitch_65  Dur_480  Pos_1440  Pitch_67  Dur_480  Bar  Pos_0  Pitch_69  Dur_480  Pos_480  Pitch_72  Dur_480  Pos_960  Pitch_65  Dur_480  Pos_1440  Pitch_67  Dur_480  Bar  Pos_0  Pitch_69  Dur_480  Pos_480  Pitch_67  Dur_240  Pos_720  Pitch_65  Dur_240  Pos_960  Pitch_64  Dur_960  </s>  \n",
      "\n",
      "\n"
     ]
    }
   ],
   "source": [
    "for k, item in enumerate(test_data):\n",
    "    if k > 2:\n",
    "        break\n",
    "    src_words, tgt_words = item['src_words'], item['tgt_words']\n",
    "    print(item['input_path'])\n",
    "    # assert len(src_words) == len(tgt_words[1:-1])\n",
    "    for idx in range(len(src_words)):\n",
    "        prosody_type = word2event_dict['Prosody'][src_words[idx]['strength']]\n",
    "        print(prosody_type, end='  ')\n",
    "    print('\\n')\n",
    "    for idx in range(len(tgt_words)):\n",
    "        cur_token = word2event_dict['Token'][tgt_words[idx]['token']]\n",
    "        print(cur_token, end='  ')\n",
    "    '''\n",
    "    for idx in range(len(src_words)):\n",
    "        strength = word2event_dict['Strength'][src_words[idx]['strength']]\n",
    "        length = word2event_dict['Length'][src_words[idx]['length']]\n",
    "        phrase = word2event_dict['Phrase'][src_words[idx]['phrase']]\n",
    "        bar = word2event_dict['Bar'][tgt_words[1:-1][idx]['bar']]\n",
    "        pos = word2event_dict['Pos'][tgt_words[1:-1][idx]['pos']]\n",
    "        token = word2event_dict['Pitch'][tgt_words[1:-1][idx]['token']]\n",
    "        dur = word2event_dict['Dur'][tgt_words[1:-1][idx]['dur']]\n",
    "        # print(f\"{strength}_{length}_{phrase}; {bar}_{pos}_{token}_{dur}\")\n",
    "    '''\n",
    "    print('\\n\\n')"
   ]
  },
  {
   "cell_type": "code",
   "execution_count": 66,
   "id": "46c58aa0-4a29-49c6-ab5f-8e3257e859bc",
   "metadata": {},
   "outputs": [],
   "source": [
    "matched = 0\n",
    "prsd_match = 0\n",
    "prsd_all = 0\n",
    "\n",
    "p_tknzr = {\n",
    "    '<strong>': 0,\n",
    "    '<substrong>': 1,\n",
    "    '<weak>': 2,\n",
    "    '<long>': 3,\n",
    "    '<short>': 4,\n",
    "}\n",
    "\n",
    "for idx, gen_melody in enumerate(gen_melodies):\n",
    "    gt_melody = os.path.join(gt_melody_dir, os.path.basename(gen_melody))\n",
    "    prsd_gen = prosody(gen_melody)\n",
    "    prsd_gt = prosody(gt_melody)\n",
    "    # if len(prsd_gen) == len(prsd_gt):\n",
    "    # print(f\"Data {idx}: {os.path.basename(gen_melody)}\")\n",
    "    '''\n",
    "    for i in range(min(len(prsd_gen), len(prsd_gt))):\n",
    "        print(f\"{prsd_gen[i][0]}, {prsd_gen[i][1]}, {prsd_gt[i][0]}, {prsd_gt[i][1]}\")\n",
    "        print('\\n')\n",
    "    '''"
   ]
  },
  {
   "cell_type": "code",
   "execution_count": 63,
   "id": "db7d025f-0a3b-4be4-a391-3f8e853c103d",
   "metadata": {},
   "outputs": [
    {
     "name": "stdout",
     "output_type": "stream",
     "text": [
      "match rate 0.0%\n"
     ]
    },
    {
     "ename": "ZeroDivisionError",
     "evalue": "division by zero",
     "output_type": "error",
     "traceback": [
      "\u001b[0;31m---------------------------------------------------------------------------\u001b[0m",
      "\u001b[0;31mZeroDivisionError\u001b[0m                         Traceback (most recent call last)",
      "Cell \u001b[0;32mIn[63], line 49\u001b[0m\n\u001b[1;32m     46\u001b[0m             \u001b[38;5;28;01mpass\u001b[39;00m\n\u001b[1;32m     48\u001b[0m \u001b[38;5;28mprint\u001b[39m(\u001b[38;5;124mf\u001b[39m\u001b[38;5;124m\"\u001b[39m\u001b[38;5;124mmatch rate \u001b[39m\u001b[38;5;132;01m{\u001b[39;00mmatched\u001b[38;5;241m/\u001b[39m\u001b[38;5;28mlen\u001b[39m(gen_melodies)\u001b[38;5;241m*\u001b[39m\u001b[38;5;241m100\u001b[39m\u001b[38;5;132;01m}\u001b[39;00m\u001b[38;5;124m%\u001b[39m\u001b[38;5;124m\"\u001b[39m)\n\u001b[0;32m---> 49\u001b[0m \u001b[38;5;28mprint\u001b[39m(\u001b[38;5;124mf\u001b[39m\u001b[38;5;124m\"\u001b[39m\u001b[38;5;124mprosody match rate \u001b[39m\u001b[38;5;132;01m{\u001b[39;00mprsd_match\u001b[38;5;241m/\u001b[39mprsd_all\u001b[38;5;241m*\u001b[39m\u001b[38;5;241m100\u001b[39m\u001b[38;5;132;01m}\u001b[39;00m\u001b[38;5;124m%\u001b[39m\u001b[38;5;124m\"\u001b[39m)\n",
      "\u001b[0;31mZeroDivisionError\u001b[0m: division by zero"
     ]
    }
   ],
   "source": [
    "matched = 0\n",
    "prsd_match = 0\n",
    "prsd_all = 0\n",
    "\n",
    "p_tknzr = {\n",
    "    '<strong>': 0,\n",
    "    '<substrong>': 1,\n",
    "    '<weak>': 2,\n",
    "    '<long>': 3,\n",
    "    '<short>': 4,\n",
    "}\n",
    "\n",
    "for idx, gen_melody in enumerate(gen_melodies):\n",
    "    gt_melody = os.path.join(gt_melody_dir, os.path.basename(gen_melody))\n",
    "    prsd_gen = prosody(gen_melody)\n",
    "    prsd_gt = prosody(gt_melody)\n",
    "    # if len(prsd_gen) == len(prsd_gt):\n",
    "    # print(f\"Data {idx}: {os.path.basename(gen_melody)}\")\n",
    "    \n",
    "    '''\n",
    "    for i in range(min(len(prsd_gen), len(prsd_gt))):\n",
    "        print(f\"{prsd_gen[i][0]}, {prsd_gen[i][1]} \\t {prsd_gt[i][0]}, {prsd_gt[i][1]}\")\n",
    "    print('\\n')\n",
    "    '''\n",
    "    \n",
    "    '''print(abs(len(prsd_gen)-len(prsd_gt)))'''\n",
    "    \n",
    "    \n",
    "\n",
    "    if abs(len(prsd_gen)-len(prsd_gt)) < 4:\n",
    "        matched += 1\n",
    "    if abs(len(prsd_gen)-len(prsd_gt)) == 0:\n",
    "        gt_prsd = []\n",
    "        gen_prsd = []\n",
    "        for i in range(len(prsd_gt)):\n",
    "            gt_prsd.extend([p_tknzr[prsd_gt[i][1]]])\n",
    "            gen_prsd.extend([p_tknzr[prsd_gen[i][1]]])\n",
    "            # bleu_score = sentence_bleu()\n",
    "            prsd_all += 1\n",
    "            if prsd_gen[i][0] == prsd_gt[i][0] and prsd_gen[i][1] == prsd_gt[i][1]:\n",
    "                prsd_match += 1\n",
    "            # print(f\"{prsd_gen[i][0]}, {prsd_gen[i][1]}, {prsd_gt[i][0]}, {prsd_gt[i][1]}\")\n",
    "        # print(f\"|>> GEN:{gen_prsd}\\n|>> GT: {gt_prsd}\\n\")\n",
    "        bleu = sentence_bleu([gt_prsd], gen_prsd)\n",
    "        # print(bleu)\n",
    "        if bleu == 1.0:\n",
    "            # print(f\"|>> GEN:{prsd_gen}\\n|>> GT: {prsd_gt}\\n\")\n",
    "            # print(f\"|>> {gen_melody}\")\n",
    "            pass\n",
    "    \n",
    "print(f\"match rate {matched/len(gen_melodies)*100}%\")\n",
    "print(f\"prosody match rate {prsd_match/prsd_all*100}%\")"
   ]
  },
  {
   "cell_type": "code",
   "execution_count": null,
   "id": "98be1489-8f91-4a8a-bdd6-ed870bf59623",
   "metadata": {},
   "outputs": [],
   "source": []
  },
  {
   "cell_type": "code",
   "execution_count": null,
   "id": "c22b37e1-adbe-4745-a325-cfb93882c13f",
   "metadata": {},
   "outputs": [],
   "source": []
  }
 ],
 "metadata": {
  "kernelspec": {
   "display_name": "Python (xailyr)",
   "language": "python",
   "name": "xailyr"
  },
  "language_info": {
   "codemirror_mode": {
    "name": "ipython",
    "version": 3
   },
   "file_extension": ".py",
   "mimetype": "text/x-python",
   "name": "python",
   "nbconvert_exporter": "python",
   "pygments_lexer": "ipython3",
   "version": "3.9.1"
  }
 },
 "nbformat": 4,
 "nbformat_minor": 5
}
