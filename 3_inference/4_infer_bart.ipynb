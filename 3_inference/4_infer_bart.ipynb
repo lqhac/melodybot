{
 "cells": [
  {
   "cell_type": "code",
   "execution_count": 1,
   "id": "54616499-4aa6-4106-b05f-5b2f8e508329",
   "metadata": {
    "tags": []
   },
   "outputs": [
    {
     "name": "stderr",
     "output_type": "stream",
     "text": [
      "2024-04-05 20:03:54.251389: I tensorflow/core/platform/cpu_feature_guard.cc:193] This TensorFlow binary is optimized with oneAPI Deep Neural Network Library (oneDNN) to use the following CPU instructions in performance-critical operations:  SSE4.1 SSE4.2 AVX AVX2 FMA\n",
      "To enable them in other operations, rebuild TensorFlow with the appropriate compiler flags.\n"
     ]
    }
   ],
   "source": [
    "import os, sys\n",
    "os.environ['PYTHONPATH'] = '/home/qihao/CS6207'\n",
    "sys.path.append('/home/qihao/CS6207')\n",
    "import pickle\n",
    "import random\n",
    "import subprocess\n",
    "import torch.cuda\n",
    "import torch\n",
    "import numpy as np\n",
    "from torch.utils.tensorboard import SummaryWriter\n",
    "from utils.earlystopping.protocols import EarlyStopping\n",
    "from utils.test_dataloder import *\n",
    "import datetime\n",
    "from utils.get_time import get_time\n",
    "import gc\n",
    "from tqdm import tqdm\n",
    "from utils.warmup import *\n",
    "import torch.nn.functional as F\n",
    "from models.bartmodel import Bart\n",
    "from transformers import get_linear_schedule_with_warmup"
   ]
  },
  {
   "cell_type": "code",
   "execution_count": 2,
   "id": "3747d753-d907-4ef7-824a-8f093b74ef1d",
   "metadata": {},
   "outputs": [
    {
     "name": "stdout",
     "output_type": "stream",
     "text": [
      "[4, 3, 1, 2]\n",
      "[1, 4, 2, 3]\n",
      "[4, 3, 2, 1]\n",
      "[3, 4, 2, 1]\n",
      "[1, 4, 3, 2]\n",
      "[3, 1, 4, 2]\n",
      "[4, 1, 2, 3]\n",
      "[3, 2, 1, 4]\n",
      "[1, 3, 4, 2]\n",
      "[3, 2, 4, 1]\n"
     ]
    }
   ],
   "source": [
    "a = [1,2,3,4]\n",
    "for i in range(10):\n",
    "    random.shuffle(a)\n",
    "    print(a)"
   ]
  },
  {
   "cell_type": "code",
   "execution_count": 3,
   "id": "4e696daa-1c57-4b35-8aad-3c65bde8fbb9",
   "metadata": {},
   "outputs": [],
   "source": [
    "device = torch.device(\"cuda:0\" if torch.cuda.is_available() else \"cpu\")"
   ]
  },
  {
   "cell_type": "code",
   "execution_count": 4,
   "id": "da90aa88-dabb-44e9-8df1-6215d474e968",
   "metadata": {},
   "outputs": [],
   "source": [
    "src_keys = ['strength', 'length', 'phrase']\n",
    "tgt_keys = ['bar', 'pos', 'token', 'dur', 'phrase']\n",
    "\n",
    "binary_dir = '/home/qihao/CS6207/binary'\n",
    "words_dir = '/home/qihao/CS6207/binary/words'\n",
    "hparams = {\n",
    "    'batch_size': 1,\n",
    "    'word_data_dir': '/home/qihao/CS6207/binary/words',\n",
    "    'sentence_maxlen': 512,\n",
    "    'hidden_size': 768,\n",
    "    'n_layers': 6,\n",
    "    'n_head': 8,\n",
    "    'pretrain': '',\n",
    "    'lr': 5.0e-5,\n",
    "    'optimizer_adam_beta1': 0.9,\n",
    "    'optimizer_adam_beta2': 0.98,\n",
    "    'weight_decay': 0.001,\n",
    "    'patience': 5,\n",
    "    'warmup': 2500,\n",
    "    'lr': 5.0e-5,\n",
    "    'checkpoint_dir': '',\n",
    "    'drop_prob': 0.2,\n",
    "    'total_epoch': 1000,\n",
    "    'infer_batch_size': 1,\n",
    "    'temperature': 1.2,\n",
    "    'topk': 2,\n",
    "    'prompt_step': 1,\n",
    "    'infer_max_step': 1024,\n",
    "    'output_dir': \"/home/qihao/CS6207/output_melody\",\n",
    "}"
   ]
  },
  {
   "cell_type": "code",
   "execution_count": 5,
   "id": "9f197dd9-a209-46c7-96e8-664a52ed6176",
   "metadata": {},
   "outputs": [],
   "source": [
    "def set_seed(seed=1234):  # seed setting\n",
    "    random.seed(seed)\n",
    "    np.random.seed(seed)\n",
    "    torch.manual_seed(seed)\n",
    "    torch.cuda.manual_seed(seed)\n",
    "    torch.cuda.manual_seed_all(seed)\n",
    "    # cuDNN在使用deterministic模式时（下面两行），可能会造成性能下降（取决于model）\n",
    "    torch.backends.cudnn.deterministic = True\n",
    "    torch.backends.cudnn.benchmark = False"
   ]
  },
  {
   "cell_type": "code",
   "execution_count": 6,
   "id": "5601fb7c-9c8f-4808-8180-c3ba34201b7b",
   "metadata": {},
   "outputs": [],
   "source": [
    "def load_model(checkpoint_path, device):\n",
    "    model = Bart(event2word_dict=event2word_dict, \n",
    "                 word2event_dict=word2event_dict, \n",
    "                 model_pth='',\n",
    "                 hidden_size=hparams['hidden_size'], \n",
    "                 num_layers=hparams['n_layers'], \n",
    "                 num_heads=hparams['n_head'], \n",
    "                 dropout=hparams['drop_prob'],).to(device)\n",
    "\n",
    "    model.load_state_dict(torch.load(checkpoint_path, map_location=device), strict=True)\n",
    "    model.eval()\n",
    "    print(f\"| Successfully loaded bart ckpt from {checkpoint_path}.\")\n",
    "    return model"
   ]
  },
  {
   "cell_type": "code",
   "execution_count": 7,
   "id": "ab05e2b0-a7ec-4d65-96be-87178a053308",
   "metadata": {},
   "outputs": [],
   "source": [
    "def xe_loss(outputs, targets):\n",
    "    outputs = outputs.transpose(1, 2)\n",
    "    return F.cross_entropy(outputs, targets, ignore_index=0, reduction='mean')"
   ]
  },
  {
   "cell_type": "code",
   "execution_count": 11,
   "id": "c6d7da35-c518-40ff-b615-c81565933cea",
   "metadata": {},
   "outputs": [],
   "source": [
    "# ckpt_name = 'checkpoint_20240331:181343_lr_5e-05'\n",
    "# ckpt_name = 'checkpoint_20240331:191608_lr_5e-05'\n",
    "# ckpt_name = 'checkpoint_20240401:105006_lr_5e-05'\n",
    "# ckpt_name = 'checkpoint_20240401:101115_lr_5e-05'\n",
    "# ckpt_name = 'checkpoint_20240401:162740_lr_5e-05'  ## sentence level, best performed\n",
    "# ckpt_name = 'checkpoint_20240401:193940_lr_5e-05'  ## sentence level, with note number indicator\n",
    "# ckpt_name = 'checkpoint_20240401:174602_lr_5e-05'  ## whole song level\n",
    "# ckpt_name = 'checkpoint_20240401:202138_lr_5e-05'  ## sentence level, place duration before pos\n",
    "# ckpt_name = 'checkpoint_20240402:171450_lr_5e-05'  ## sentence level, with note number indicator, with basic melody\n",
    "# ckpt_name = 'checkpoint_20240403:144807_lr_5e-05'  ## whole song level, with note number indicator, with basic melody\n",
    "# ckpt_name = 'checkpoint_20240405:104538_lr_5e-05'  ## whole song level, with only prosody\n",
    "# ckpt_name = 'checkpoint_20240404:184614_lr_5e-05'\n",
    "# ckpt_name = 'checkpoint_20240405:120733_lr_5e-05'  ## whole song level, compound word template\n",
    "ckpt_name = 'checkpoint_20240405:200713_lr_5e-05'  "
   ]
  },
  {
   "cell_type": "code",
   "execution_count": 12,
   "id": "86b780a0-a2b8-4ae8-b51d-d8d3bd5d391d",
   "metadata": {},
   "outputs": [],
   "source": [
    "def infer_l2m():\n",
    "    ## -------------------\n",
    "    ##     Bart Model\n",
    "    ## -------------------\n",
    "    set_seed()\n",
    "    print(f\"Using device: {device} for inferences custom samples\")\n",
    "    \n",
    "    # training conditions (for naming the ckpt)\n",
    "    lr = hparams['lr']\n",
    "\n",
    "    ckpt_dir = f'/home/qihao/CS6207/checkpoints/{ckpt_name}'\n",
    "    ckpt_path = os.path.join(ckpt_dir, 'best.pt')\n",
    "\n",
    "    # load dictionary\n",
    "    event2word_dict, word2event_dict = pickle.load(open(f\"{binary_dir}/music_dict.pkl\", 'rb'))\n",
    "    \n",
    "    test_dataset = L2MDataset('test', event2word_dict, hparams, shuffle=False)\n",
    "    test_loader = build_dataloader(dataset=test_dataset, shuffle=False, batch_size=hparams['infer_batch_size'], endless=False)\n",
    "    \n",
    "    print(f\"Test Datalodaer = {len(test_loader)} Songs\")\n",
    "\n",
    "    # load melody generation model based on skeleton framework\n",
    "    model = Bart(event2word_dict=event2word_dict, \n",
    "                 word2event_dict=word2event_dict, \n",
    "                 model_pth='',\n",
    "                 hidden_size=hparams['hidden_size'], \n",
    "                 num_layers=hparams['n_layers'], \n",
    "                 num_heads=hparams['n_head'], \n",
    "                 dropout=hparams['drop_prob'],).to(device)\n",
    "    model.load_state_dict(torch.load(ckpt_path, map_location=device), strict=True)\n",
    "    model.eval()\n",
    "    print(f\"| Successfully loaded bart ckpt from {ckpt_path}.\")\n",
    "\n",
    "    # -------------------------------------------------------------------------------------------\n",
    "    # Inference file path\n",
    "    # -------------------------------------------------------------------------------------------\n",
    "    exp_date = get_time()\n",
    "    melody_output_dir = os.path.join(hparams['output_dir'], f'melody_{exp_date}')\n",
    "    gt_output_dir = os.path.join(hparams['output_dir'], f'melody_gt_{exp_date}')\n",
    "    if not os.path.exists(melody_output_dir):\n",
    "        os.mkdir(melody_output_dir)\n",
    "    if not os.path.exists(gt_output_dir):\n",
    "        os.mkdir(gt_output_dir)\n",
    "\n",
    "    # num_sample = 53\n",
    "    # random_integers = random.sample(range(0, len(test_loader)-1), num_sample)\n",
    "    \n",
    "    for data_idx, data in enumerate(test_loader):\n",
    "        # if data_idx not in random_integers:\n",
    "            # continue\n",
    "        try:\n",
    "            data_name = data['item_name'][0] if '.mid' not in data['item_name'][0] else data['item_name'][0][:-4]\n",
    "\n",
    "            enc_inputs = {k: data[f'src_{k}'].to(device) for k in src_keys}\n",
    "            dec_inputs = {k: data[f'tgt_{k}'].to(device) for k in tgt_keys}\n",
    "            \n",
    "            # prompt_step = dec_inputs['token'].shape[-1]  ## output gt\n",
    "            # prompt_step = hparams['prompt_step']  ## select random step\n",
    "            ## select first bar\n",
    "            prompt_step = 1\n",
    "            bar_cnt = 0\n",
    "            \n",
    "            \n",
    "            '''\n",
    "            while bar_cnt < 2:\n",
    "                # print(data['tgt_token'].squeeze().shape)\n",
    "                cur_token = int(data['tgt_token'].squeeze()[prompt_step])\n",
    "                cur_word = word2event_dict['Token'][cur_token]\n",
    "                # print(cur_word)\n",
    "                if cur_word == \"Bar\":\n",
    "                    bar_cnt += 1\n",
    "                prompt_step += 1\n",
    "            '''\n",
    "            \n",
    "            \n",
    "            dec_inputs_selected = {\n",
    "                'bar': dec_inputs['bar'][:, :prompt_step],\n",
    "                'pos': dec_inputs['pos'][:, :prompt_step],\n",
    "                'token': dec_inputs['token'][:, :prompt_step],\n",
    "                'dur': dec_inputs['dur'][:, :prompt_step],\n",
    "                'phrase': dec_inputs['phrase'][:, :prompt_step],\n",
    "            }\n",
    "            \n",
    "            _ = model.infer(enc_inputs=enc_inputs, \n",
    "                            dec_inputs_gt=dec_inputs_selected, \n",
    "                            sentence_maxlen=hparams['infer_max_step']-prompt_step, \n",
    "                            temperature=hparams['temperature'], \n",
    "                            topk=hparams['topk'], \n",
    "                            device=device, \n",
    "                            output_dir=melody_output_dir, \n",
    "                            midi_name=data_name,\n",
    "                            dec_labels=dec_inputs,\n",
    "                            gt_output_dir=gt_output_dir)\n",
    "            \n",
    "            print(f\"Generating {data_idx+1}/{len(test_loader)}, Name: {data_name}\")\n",
    "        except Exception as e:\n",
    "            traceback.print_exc()\n",
    "            print(f\"-!-!-!-!-!-!-!-!-!-!-!-!-!-!-!-!-!-!-!-!-!-!-!-!-!-!-!-!-!-!-!-!-!-!-!-!-!-!-\\nBad Item: {data_name}\")"
   ]
  },
  {
   "cell_type": "code",
   "execution_count": 13,
   "id": "cdca57e4-ea82-46a9-93b3-85c50395b3e4",
   "metadata": {},
   "outputs": [
    {
     "name": "stdout",
     "output_type": "stream",
     "text": [
      "Using device: cuda:0 for inferences custom samples\n",
      "Test Datalodaer = 53 Songs\n",
      "| Successfully loaded bart ckpt from /home/qihao/CS6207/checkpoints/checkpoint_20240405:200713_lr_5e-05/best.pt.\n"
     ]
    },
    {
     "name": "stderr",
     "output_type": "stream",
     "text": [
      " 69%|███████████████████████████▋            | 707/1023 [00:08<00:04, 78.69it/s]\n",
      "  1%|▎                                         | 9/1023 [00:00<00:11, 88.14it/s]"
     ]
    },
    {
     "name": "stdout",
     "output_type": "stream",
     "text": [
      "/home/qihao/CS6207/output_melody/melody_20240405:203238/没有你陪伴我真的好孤单_seg0_1_Seg1.mid\n",
      "/home/qihao/CS6207/output_melody/melody_gt_20240405:203238/没有你陪伴我真的好孤单_seg0_1_Seg1.mid\n",
      "Generating 1/53, Name: 没有你陪伴我真的好孤单_seg0_1_Seg1\n"
     ]
    },
    {
     "name": "stderr",
     "output_type": "stream",
     "text": [
      "100%|███████████████████████████████████████| 1023/1023 [00:16<00:00, 63.57it/s]\n",
      "  1%|▍                                       | 11/1023 [00:00<00:09, 102.61it/s]"
     ]
    },
    {
     "name": "stdout",
     "output_type": "stream",
     "text": [
      "| WARNING: overlapping notes at ts 964\n",
      "| WARNING: overlapping notes at ts 989\n",
      "| WARNING: overlapping notes at ts 998\n",
      "/home/qihao/CS6207/output_melody/melody_20240405:203238/剪爱_seg0_1_Seg2.mid\n",
      "/home/qihao/CS6207/output_melody/melody_gt_20240405:203238/剪爱_seg0_1_Seg2.mid\n",
      "Generating 2/53, Name: 剪爱_seg0_1_Seg2\n"
     ]
    },
    {
     "name": "stderr",
     "output_type": "stream",
     "text": [
      " 67%|██████████████████████████▋             | 684/1023 [00:07<00:03, 92.28it/s]\n",
      "  1%|▎                                         | 9/1023 [00:00<00:11, 89.81it/s]"
     ]
    },
    {
     "name": "stdout",
     "output_type": "stream",
     "text": [
      "/home/qihao/CS6207/output_melody/melody_20240405:203238/在那遥远的地方_seg0_1_Seg3.mid\n",
      "/home/qihao/CS6207/output_melody/melody_gt_20240405:203238/在那遥远的地方_seg0_1_Seg3.mid\n",
      "Generating 3/53, Name: 在那遥远的地方_seg0_1_Seg3\n"
     ]
    },
    {
     "name": "stderr",
     "output_type": "stream",
     "text": [
      " 77%|██████████████████████████████▉         | 791/1023 [00:11<00:03, 69.62it/s]\n",
      "  1%|▍                                        | 10/1023 [00:00<00:10, 97.21it/s]"
     ]
    },
    {
     "name": "stdout",
     "output_type": "stream",
     "text": [
      "/home/qihao/CS6207/output_melody/melody_20240405:203238/长长的路慢慢地走_seg0_1_Seg2.mid\n",
      "/home/qihao/CS6207/output_melody/melody_gt_20240405:203238/长长的路慢慢地走_seg0_1_Seg2.mid\n",
      "Generating 4/53, Name: 长长的路慢慢地走_seg0_1_Seg2\n"
     ]
    },
    {
     "name": "stderr",
     "output_type": "stream",
     "text": [
      " 55%|██████████████████████▏                 | 567/1023 [00:06<00:05, 86.64it/s]\n",
      "  1%|▍                                       | 11/1023 [00:00<00:09, 105.81it/s]"
     ]
    },
    {
     "name": "stdout",
     "output_type": "stream",
     "text": [
      "/home/qihao/CS6207/output_melody/melody_20240405:203238/那年的情书_seg0_1_Seg1.mid\n",
      "/home/qihao/CS6207/output_melody/melody_gt_20240405:203238/那年的情书_seg0_1_Seg1.mid\n",
      "Generating 5/53, Name: 那年的情书_seg0_1_Seg1\n"
     ]
    },
    {
     "name": "stderr",
     "output_type": "stream",
     "text": [
      " 80%|████████████████████████████████        | 819/1023 [00:09<00:02, 84.94it/s]\n",
      "  1%|▍                                       | 11/1023 [00:00<00:09, 106.27it/s]"
     ]
    },
    {
     "name": "stdout",
     "output_type": "stream",
     "text": [
      "| WARNING: overlapping notes at ts 29\n",
      "/home/qihao/CS6207/output_melody/melody_20240405:203238/牧羊曲_seg0_1_Seg2.mid\n",
      "/home/qihao/CS6207/output_melody/melody_gt_20240405:203238/牧羊曲_seg0_1_Seg2.mid\n",
      "Generating 6/53, Name: 牧羊曲_seg0_1_Seg2\n"
     ]
    },
    {
     "name": "stderr",
     "output_type": "stream",
     "text": [
      " 63%|█████████████████████████▏              | 643/1023 [00:06<00:04, 93.94it/s]\n",
      "  1%|▍                                        | 10/1023 [00:00<00:10, 97.77it/s]"
     ]
    },
    {
     "name": "stdout",
     "output_type": "stream",
     "text": [
      "/home/qihao/CS6207/output_melody/melody_20240405:203238/夜空中最亮的星_seg0_1_Seg2.mid\n",
      "/home/qihao/CS6207/output_melody/melody_gt_20240405:203238/夜空中最亮的星_seg0_1_Seg2.mid\n",
      "Generating 7/53, Name: 夜空中最亮的星_seg0_1_Seg2\n"
     ]
    },
    {
     "name": "stderr",
     "output_type": "stream",
     "text": [
      " 47%|██████████████████▋                     | 478/1023 [00:05<00:06, 89.72it/s]\n",
      "  1%|▍                                        | 10/1023 [00:00<00:10, 94.11it/s]"
     ]
    },
    {
     "name": "stdout",
     "output_type": "stream",
     "text": [
      "/home/qihao/CS6207/output_melody/melody_20240405:203238/雁南飞_seg0_1_Seg1.mid\n",
      "/home/qihao/CS6207/output_melody/melody_gt_20240405:203238/雁南飞_seg0_1_Seg1.mid\n",
      "Generating 8/53, Name: 雁南飞_seg0_1_Seg1\n"
     ]
    },
    {
     "name": "stderr",
     "output_type": "stream",
     "text": [
      " 20%|████████                                | 207/1023 [00:02<00:09, 90.34it/s]\n",
      "  1%|▎                                         | 7/1023 [00:00<00:14, 69.70it/s]"
     ]
    },
    {
     "name": "stdout",
     "output_type": "stream",
     "text": [
      "/home/qihao/CS6207/output_melody/melody_20240405:203238/在心里从此永远有个你_seg0_1_Seg1.mid\n",
      "/home/qihao/CS6207/output_melody/melody_gt_20240405:203238/在心里从此永远有个你_seg0_1_Seg1.mid\n",
      "Generating 9/53, Name: 在心里从此永远有个你_seg0_1_Seg1\n"
     ]
    },
    {
     "name": "stderr",
     "output_type": "stream",
     "text": [
      "100%|███████████████████████████████████████| 1023/1023 [00:21<00:00, 48.33it/s]\n",
      "  1%|▍                                        | 10/1023 [00:00<00:10, 93.43it/s]"
     ]
    },
    {
     "name": "stdout",
     "output_type": "stream",
     "text": [
      "| WARNING: overlapping notes at ts 41\n",
      "| WARNING: overlapping notes at ts 790\n",
      "| WARNING: overlapping notes at ts 827\n",
      "| WARNING: overlapping notes at ts 888\n",
      "| WARNING: overlapping notes at ts 996\n",
      "| WARNING: overlapping notes at ts 1008\n",
      "| WARNING: overlapping notes at ts 1014\n",
      "| WARNING: overlapping notes at ts 1020\n",
      "/home/qihao/CS6207/output_melody/melody_20240405:203238/别说我的眼泪你无所谓_seg0_1_Seg1.mid\n",
      "/home/qihao/CS6207/output_melody/melody_gt_20240405:203238/别说我的眼泪你无所谓_seg0_1_Seg1.mid\n",
      "Generating 10/53, Name: 别说我的眼泪你无所谓_seg0_1_Seg1\n"
     ]
    },
    {
     "name": "stderr",
     "output_type": "stream",
     "text": [
      " 68%|███████████████████████████▎            | 700/1023 [00:09<00:04, 77.47it/s]\n",
      "  1%|▎                                         | 9/1023 [00:00<00:11, 86.51it/s]"
     ]
    },
    {
     "name": "stdout",
     "output_type": "stream",
     "text": [
      "/home/qihao/CS6207/output_melody/melody_20240405:203238/手掌心_seg0_1_Seg2.mid\n",
      "/home/qihao/CS6207/output_melody/melody_gt_20240405:203238/手掌心_seg0_1_Seg2.mid\n",
      "Generating 11/53, Name: 手掌心_seg0_1_Seg2\n"
     ]
    },
    {
     "name": "stderr",
     "output_type": "stream",
     "text": [
      " 48%|███████████████████                     | 489/1023 [00:06<00:06, 77.81it/s]\n",
      "  1%|▍                                       | 11/1023 [00:00<00:09, 101.95it/s]"
     ]
    },
    {
     "name": "stdout",
     "output_type": "stream",
     "text": [
      "/home/qihao/CS6207/output_melody/melody_20240405:203238/难道爱一个人有错吗_seg0_1_Seg2.mid\n",
      "/home/qihao/CS6207/output_melody/melody_gt_20240405:203238/难道爱一个人有错吗_seg0_1_Seg2.mid\n",
      "Generating 12/53, Name: 难道爱一个人有错吗_seg0_1_Seg2\n"
     ]
    },
    {
     "name": "stderr",
     "output_type": "stream",
     "text": [
      " 96%|██████████████████████████████████████▏ | 978/1023 [00:13<00:00, 73.82it/s]\n",
      "  1%|▍                                        | 10/1023 [00:00<00:10, 93.29it/s]"
     ]
    },
    {
     "name": "stdout",
     "output_type": "stream",
     "text": [
      "| WARNING: overlapping notes at ts 35\n",
      "| WARNING: overlapping notes at ts 44\n",
      "| WARNING: overlapping notes at ts 179\n",
      "| WARNING: overlapping notes at ts 623\n",
      "| WARNING: overlapping notes at ts 753\n",
      "| WARNING: overlapping notes at ts 888\n",
      "| WARNING: overlapping notes at ts 941\n",
      "| WARNING: overlapping notes at ts 944\n",
      "| WARNING: overlapping notes at ts 962\n",
      "/home/qihao/CS6207/output_melody/melody_20240405:203238/晚秋_seg0_1_Seg1.mid\n",
      "/home/qihao/CS6207/output_melody/melody_gt_20240405:203238/晚秋_seg0_1_Seg1.mid\n",
      "Generating 13/53, Name: 晚秋_seg0_1_Seg1\n"
     ]
    },
    {
     "name": "stderr",
     "output_type": "stream",
     "text": [
      " 92%|████████████████████████████████████▋   | 939/1023 [00:13<00:01, 67.93it/s]\n",
      "  1%|▍                                       | 11/1023 [00:00<00:09, 104.16it/s]"
     ]
    },
    {
     "name": "stdout",
     "output_type": "stream",
     "text": [
      "| WARNING: overlapping notes at ts 840\n",
      "| WARNING: overlapping notes at ts 919\n",
      "/home/qihao/CS6207/output_melody/melody_20240405:203238/如果当时_seg0_1_Seg2.mid\n",
      "/home/qihao/CS6207/output_melody/melody_gt_20240405:203238/如果当时_seg0_1_Seg2.mid\n",
      "Generating 14/53, Name: 如果当时_seg0_1_Seg2\n"
     ]
    },
    {
     "name": "stderr",
     "output_type": "stream",
     "text": [
      " 44%|█████████████████▍                      | 446/1023 [00:04<00:05, 98.49it/s]\n",
      "  1%|▍                                        | 10/1023 [00:00<00:10, 97.74it/s]"
     ]
    },
    {
     "name": "stdout",
     "output_type": "stream",
     "text": [
      "/home/qihao/CS6207/output_melody/melody_20240405:203238/梨花又开放_seg0_1_Seg1.mid\n",
      "/home/qihao/CS6207/output_melody/melody_gt_20240405:203238/梨花又开放_seg0_1_Seg1.mid\n",
      "Generating 15/53, Name: 梨花又开放_seg0_1_Seg1\n"
     ]
    },
    {
     "name": "stderr",
     "output_type": "stream",
     "text": [
      " 44%|█████████████████▌                      | 449/1023 [00:04<00:06, 90.91it/s]\n",
      "  1%|▍                                        | 10/1023 [00:00<00:10, 98.62it/s]"
     ]
    },
    {
     "name": "stdout",
     "output_type": "stream",
     "text": [
      "/home/qihao/CS6207/output_melody/melody_20240405:203238/等不到的爱_seg0_1_Seg2.mid\n",
      "/home/qihao/CS6207/output_melody/melody_gt_20240405:203238/等不到的爱_seg0_1_Seg2.mid\n",
      "Generating 16/53, Name: 等不到的爱_seg0_1_Seg2\n"
     ]
    },
    {
     "name": "stderr",
     "output_type": "stream",
     "text": [
      " 29%|███████████▌                            | 297/1023 [00:03<00:07, 94.64it/s]\n",
      "  1%|▍                                        | 10/1023 [00:00<00:10, 94.79it/s]"
     ]
    },
    {
     "name": "stdout",
     "output_type": "stream",
     "text": [
      "/home/qihao/CS6207/output_melody/melody_20240405:203238/相思河_seg0_1_Seg2.mid\n",
      "/home/qihao/CS6207/output_melody/melody_gt_20240405:203238/相思河_seg0_1_Seg2.mid\n",
      "Generating 17/53, Name: 相思河_seg0_1_Seg2\n"
     ]
    },
    {
     "name": "stderr",
     "output_type": "stream",
     "text": [
      " 97%|██████████████████████████████████████▉ | 995/1023 [00:14<00:00, 66.72it/s]\n",
      "  1%|▍                                       | 11/1023 [00:00<00:09, 105.46it/s]"
     ]
    },
    {
     "name": "stdout",
     "output_type": "stream",
     "text": [
      "| WARNING: overlapping notes at ts 41\n",
      "| WARNING: overlapping notes at ts 209\n",
      "| WARNING: overlapping notes at ts 218\n",
      "| WARNING: overlapping notes at ts 384\n",
      "| WARNING: overlapping notes at ts 733\n",
      "| WARNING: overlapping notes at ts 992\n",
      "| WARNING: overlapping notes at ts 995\n",
      "/home/qihao/CS6207/output_melody/melody_20240405:203238/突然好想你_seg0_1_Seg1.mid\n",
      "/home/qihao/CS6207/output_melody/melody_gt_20240405:203238/突然好想你_seg0_1_Seg1.mid\n",
      "Generating 18/53, Name: 突然好想你_seg0_1_Seg1\n"
     ]
    },
    {
     "name": "stderr",
     "output_type": "stream",
     "text": [
      " 46%|██████████████████▍                     | 473/1023 [00:04<00:05, 99.89it/s]\n",
      "  1%|▍                                       | 11/1023 [00:00<00:09, 103.69it/s]"
     ]
    },
    {
     "name": "stdout",
     "output_type": "stream",
     "text": [
      "/home/qihao/CS6207/output_melody/melody_20240405:203238/春泥_seg0_1_Seg2.mid\n",
      "/home/qihao/CS6207/output_melody/melody_gt_20240405:203238/春泥_seg0_1_Seg2.mid\n",
      "Generating 19/53, Name: 春泥_seg0_1_Seg2\n"
     ]
    },
    {
     "name": "stderr",
     "output_type": "stream",
     "text": [
      " 51%|████████████████████▎                   | 521/1023 [00:05<00:05, 95.70it/s]\n",
      "  1%|▎                                         | 9/1023 [00:00<00:11, 85.99it/s]"
     ]
    },
    {
     "name": "stdout",
     "output_type": "stream",
     "text": [
      "/home/qihao/CS6207/output_melody/melody_20240405:203238/别再说_seg0_1_Seg2.mid\n",
      "/home/qihao/CS6207/output_melody/melody_gt_20240405:203238/别再说_seg0_1_Seg2.mid\n",
      "Generating 20/53, Name: 别再说_seg0_1_Seg2\n"
     ]
    },
    {
     "name": "stderr",
     "output_type": "stream",
     "text": [
      "100%|███████████████████████████████████████| 1023/1023 [00:17<00:00, 59.84it/s]\n",
      "  1%|▎                                         | 9/1023 [00:00<00:11, 89.39it/s]"
     ]
    },
    {
     "name": "stdout",
     "output_type": "stream",
     "text": [
      "| WARNING: overlapping notes at ts 609\n",
      "| WARNING: overlapping notes at ts 829\n",
      "| WARNING: overlapping notes at ts 937\n",
      "| WARNING: overlapping notes at ts 980\n",
      "| WARNING: overlapping notes at ts 992\n",
      "| WARNING: overlapping notes at ts 998\n",
      "| WARNING: overlapping notes at ts 1001\n",
      "| WARNING: overlapping notes at ts 1004\n",
      "| WARNING: overlapping notes at ts 1013\n",
      "/home/qihao/CS6207/output_melody/melody_20240405:203238/醉相思_seg0_1_Seg2.mid\n",
      "/home/qihao/CS6207/output_melody/melody_gt_20240405:203238/醉相思_seg0_1_Seg2.mid\n",
      "Generating 21/53, Name: 醉相思_seg0_1_Seg2\n"
     ]
    },
    {
     "name": "stderr",
     "output_type": "stream",
     "text": [
      " 46%|██████████████████▌                     | 475/1023 [00:05<00:06, 80.47it/s]\n",
      "  1%|▍                                        | 10/1023 [00:00<00:10, 93.92it/s]"
     ]
    },
    {
     "name": "stdout",
     "output_type": "stream",
     "text": [
      "/home/qihao/CS6207/output_melody/melody_20240405:203238/你的样子_seg0_1_Seg1.mid\n",
      "/home/qihao/CS6207/output_melody/melody_gt_20240405:203238/你的样子_seg0_1_Seg1.mid\n",
      "Generating 22/53, Name: 你的样子_seg0_1_Seg1\n"
     ]
    },
    {
     "name": "stderr",
     "output_type": "stream",
     "text": [
      " 42%|████████████████▌                       | 425/1023 [00:04<00:06, 87.74it/s]\n",
      "  1%|▍                                       | 11/1023 [00:00<00:09, 101.97it/s]"
     ]
    },
    {
     "name": "stdout",
     "output_type": "stream",
     "text": [
      "/home/qihao/CS6207/output_melody/melody_20240405:203238/类似爱情_seg0_1_Seg1.mid\n",
      "/home/qihao/CS6207/output_melody/melody_gt_20240405:203238/类似爱情_seg0_1_Seg1.mid\n",
      "Generating 23/53, Name: 类似爱情_seg0_1_Seg1\n"
     ]
    },
    {
     "name": "stderr",
     "output_type": "stream",
     "text": [
      " 35%|██████████████                          | 361/1023 [00:03<00:06, 98.21it/s]\n",
      "  1%|▍                                       | 11/1023 [00:00<00:09, 105.70it/s]"
     ]
    },
    {
     "name": "stdout",
     "output_type": "stream",
     "text": [
      "/home/qihao/CS6207/output_melody/melody_20240405:203238/凡人歌_seg0_1_Seg1.mid\n",
      "/home/qihao/CS6207/output_melody/melody_gt_20240405:203238/凡人歌_seg0_1_Seg1.mid\n",
      "Generating 24/53, Name: 凡人歌_seg0_1_Seg1\n"
     ]
    },
    {
     "name": "stderr",
     "output_type": "stream",
     "text": [
      " 67%|██████████████████████████▊             | 685/1023 [00:07<00:03, 91.18it/s]\n",
      "  1%|▍                                       | 11/1023 [00:00<00:09, 103.73it/s]"
     ]
    },
    {
     "name": "stdout",
     "output_type": "stream",
     "text": [
      "/home/qihao/CS6207/output_melody/melody_20240405:203238/小城故事_seg0_1_Seg1.mid\n",
      "/home/qihao/CS6207/output_melody/melody_gt_20240405:203238/小城故事_seg0_1_Seg1.mid\n",
      "Generating 25/53, Name: 小城故事_seg0_1_Seg1\n"
     ]
    },
    {
     "name": "stderr",
     "output_type": "stream",
     "text": [
      " 39%|███████████████▍                        | 395/1023 [00:03<00:06, 99.48it/s]\n",
      "  1%|▍                                        | 10/1023 [00:00<00:10, 93.30it/s]"
     ]
    },
    {
     "name": "stdout",
     "output_type": "stream",
     "text": [
      "/home/qihao/CS6207/output_melody/melody_20240405:203238/命运不是辘轳_seg0_1_Seg1.mid\n",
      "/home/qihao/CS6207/output_melody/melody_gt_20240405:203238/命运不是辘轳_seg0_1_Seg1.mid\n",
      "Generating 26/53, Name: 命运不是辘轳_seg0_1_Seg1\n"
     ]
    },
    {
     "name": "stderr",
     "output_type": "stream",
     "text": [
      " 48%|███████████████████                     | 488/1023 [00:05<00:06, 84.95it/s]\n",
      "  1%|▍                                        | 10/1023 [00:00<00:11, 89.89it/s]"
     ]
    },
    {
     "name": "stdout",
     "output_type": "stream",
     "text": [
      "| WARNING: overlapping notes at ts 201\n",
      "| WARNING: overlapping notes at ts 204\n",
      "| WARNING: overlapping notes at ts 244\n",
      "| WARNING: overlapping notes at ts 278\n",
      "| WARNING: overlapping notes at ts 306\n",
      "| WARNING: overlapping notes at ts 340\n",
      "| WARNING: overlapping notes at ts 482\n",
      "/home/qihao/CS6207/output_melody/melody_20240405:203238/最重要的决定_seg0_1_Seg1.mid\n",
      "/home/qihao/CS6207/output_melody/melody_gt_20240405:203238/最重要的决定_seg0_1_Seg1.mid\n",
      "Generating 27/53, Name: 最重要的决定_seg0_1_Seg1\n"
     ]
    },
    {
     "name": "stderr",
     "output_type": "stream",
     "text": [
      "100%|███████████████████████████████████████| 1023/1023 [00:16<00:00, 62.20it/s]\n",
      "  1%|▎                                         | 9/1023 [00:00<00:12, 81.98it/s]"
     ]
    },
    {
     "name": "stdout",
     "output_type": "stream",
     "text": [
      "| WARNING: overlapping notes at ts 164\n",
      "| WARNING: overlapping notes at ts 336\n",
      "| WARNING: overlapping notes at ts 610\n",
      "| WARNING: overlapping notes at ts 932\n",
      "| WARNING: overlapping notes at ts 987\n",
      "| WARNING: overlapping notes at ts 990\n",
      "| WARNING: overlapping notes at ts 1002\n",
      "| WARNING: overlapping notes at ts 1008\n",
      "| WARNING: overlapping notes at ts 1014\n",
      "| WARNING: overlapping notes at ts 1017\n",
      "| WARNING: overlapping notes at ts 1020\n",
      "/home/qihao/CS6207/output_melody/melody_20240405:203238/为你我受冷风吹_seg0_1_Seg2.mid\n",
      "/home/qihao/CS6207/output_melody/melody_gt_20240405:203238/为你我受冷风吹_seg0_1_Seg2.mid\n",
      "Generating 28/53, Name: 为你我受冷风吹_seg0_1_Seg2\n"
     ]
    },
    {
     "name": "stderr",
     "output_type": "stream",
     "text": [
      " 51%|████████████████████▌                   | 525/1023 [00:07<00:06, 72.67it/s]\n",
      "  1%|▍                                        | 10/1023 [00:00<00:10, 97.87it/s]"
     ]
    },
    {
     "name": "stdout",
     "output_type": "stream",
     "text": [
      "/home/qihao/CS6207/output_melody/melody_20240405:203238/不要说话_seg0_1_Seg1.mid\n",
      "/home/qihao/CS6207/output_melody/melody_gt_20240405:203238/不要说话_seg0_1_Seg1.mid\n",
      "Generating 29/53, Name: 不要说话_seg0_1_Seg1\n"
     ]
    },
    {
     "name": "stderr",
     "output_type": "stream",
     "text": [
      " 95%|█████████████████████████████████████▊  | 967/1023 [00:13<00:00, 70.65it/s]\n",
      "  1%|▎                                         | 8/1023 [00:00<00:13, 73.74it/s]"
     ]
    },
    {
     "name": "stdout",
     "output_type": "stream",
     "text": [
      "| WARNING: overlapping notes at ts 165\n",
      "| WARNING: overlapping notes at ts 540\n",
      "| WARNING: overlapping notes at ts 577\n",
      "| WARNING: overlapping notes at ts 691\n",
      "| WARNING: overlapping notes at ts 734\n",
      "| WARNING: overlapping notes at ts 917\n",
      "| WARNING: overlapping notes at ts 955\n",
      "/home/qihao/CS6207/output_melody/melody_20240405:203238/最远的你是我最近的爱_seg0_1_Seg1.mid\n",
      "/home/qihao/CS6207/output_melody/melody_gt_20240405:203238/最远的你是我最近的爱_seg0_1_Seg1.mid\n",
      "Generating 30/53, Name: 最远的你是我最近的爱_seg0_1_Seg1\n"
     ]
    },
    {
     "name": "stderr",
     "output_type": "stream",
     "text": [
      "100%|███████████████████████████████████████| 1023/1023 [00:19<00:00, 52.38it/s]\n",
      "  1%|▍                                        | 10/1023 [00:00<00:10, 93.48it/s]"
     ]
    },
    {
     "name": "stdout",
     "output_type": "stream",
     "text": [
      "| WARNING: overlapping notes at ts 956\n",
      "| WARNING: overlapping notes at ts 977\n",
      "| WARNING: overlapping notes at ts 996\n",
      "| WARNING: overlapping notes at ts 999\n",
      "| WARNING: overlapping notes at ts 1008\n",
      "| WARNING: overlapping notes at ts 1020\n",
      "| WARNING: overlapping notes at ts 1023\n",
      "/home/qihao/CS6207/output_melody/melody_20240405:203238/最浪漫的事_seg0_1_Seg2.mid\n",
      "/home/qihao/CS6207/output_melody/melody_gt_20240405:203238/最浪漫的事_seg0_1_Seg2.mid\n",
      "Generating 31/53, Name: 最浪漫的事_seg0_1_Seg2\n"
     ]
    },
    {
     "name": "stderr",
     "output_type": "stream",
     "text": [
      " 89%|███████████████████████████████████▌    | 910/1023 [00:13<00:01, 69.25it/s]\n",
      "  1%|▍                                        | 10/1023 [00:00<00:10, 94.20it/s]"
     ]
    },
    {
     "name": "stdout",
     "output_type": "stream",
     "text": [
      "| WARNING: overlapping notes at ts 138\n",
      "/home/qihao/CS6207/output_melody/melody_20240405:203238/夜深人静更想你_seg0_1_Seg1.mid\n",
      "/home/qihao/CS6207/output_melody/melody_gt_20240405:203238/夜深人静更想你_seg0_1_Seg1.mid\n",
      "Generating 32/53, Name: 夜深人静更想你_seg0_1_Seg1\n"
     ]
    },
    {
     "name": "stderr",
     "output_type": "stream",
     "text": [
      " 97%|██████████████████████████████████████▊ | 994/1023 [00:14<00:00, 66.54it/s]\n",
      "  1%|▎                                         | 9/1023 [00:00<00:11, 86.98it/s]"
     ]
    },
    {
     "name": "stdout",
     "output_type": "stream",
     "text": [
      "| WARNING: overlapping notes at ts 220\n",
      "| WARNING: overlapping notes at ts 540\n",
      "| WARNING: overlapping notes at ts 577\n",
      "| WARNING: overlapping notes at ts 839\n",
      "| WARNING: overlapping notes at ts 984\n",
      "/home/qihao/CS6207/output_melody/melody_20240405:203238/月半小夜曲_seg0_1_Seg1.mid\n",
      "/home/qihao/CS6207/output_melody/melody_gt_20240405:203238/月半小夜曲_seg0_1_Seg1.mid\n",
      "Generating 33/53, Name: 月半小夜曲_seg0_1_Seg1\n"
     ]
    },
    {
     "name": "stderr",
     "output_type": "stream",
     "text": [
      " 51%|████████████████████▍                   | 522/1023 [00:06<00:06, 76.56it/s]\n",
      "  1%|▍                                       | 11/1023 [00:00<00:09, 103.24it/s]"
     ]
    },
    {
     "name": "stdout",
     "output_type": "stream",
     "text": [
      "| WARNING: overlapping notes at ts 139\n",
      "/home/qihao/CS6207/output_melody/melody_20240405:203238/一眼万年_seg0_1_Seg2.mid\n",
      "/home/qihao/CS6207/output_melody/melody_gt_20240405:203238/一眼万年_seg0_1_Seg2.mid\n",
      "Generating 34/53, Name: 一眼万年_seg0_1_Seg2\n"
     ]
    },
    {
     "name": "stderr",
     "output_type": "stream",
     "text": [
      " 93%|█████████████████████████████████████▎  | 955/1023 [00:12<00:00, 75.15it/s]\n",
      "  1%|▍                                       | 11/1023 [00:00<00:09, 102.32it/s]"
     ]
    },
    {
     "name": "stdout",
     "output_type": "stream",
     "text": [
      "| WARNING: overlapping notes at ts 528\n",
      "| WARNING: overlapping notes at ts 853\n",
      "| WARNING: overlapping notes at ts 949\n",
      "/home/qihao/CS6207/output_melody/melody_20240405:203238/三寸天堂_seg0_1_Seg1.mid\n",
      "/home/qihao/CS6207/output_melody/melody_gt_20240405:203238/三寸天堂_seg0_1_Seg1.mid\n",
      "Generating 35/53, Name: 三寸天堂_seg0_1_Seg1\n"
     ]
    },
    {
     "name": "stderr",
     "output_type": "stream",
     "text": [
      " 28%|███████████▎                            | 288/1023 [00:02<00:07, 99.67it/s]\n",
      "  1%|▍                                        | 10/1023 [00:00<00:11, 91.19it/s]"
     ]
    },
    {
     "name": "stdout",
     "output_type": "stream",
     "text": [
      "/home/qihao/CS6207/output_melody/melody_20240405:203238/再回到从前_seg0_1_Seg2.mid\n",
      "/home/qihao/CS6207/output_melody/melody_gt_20240405:203238/再回到从前_seg0_1_Seg2.mid\n",
      "Generating 36/53, Name: 再回到从前_seg0_1_Seg2\n"
     ]
    },
    {
     "name": "stderr",
     "output_type": "stream",
     "text": [
      " 83%|█████████████████████████████████       | 846/1023 [00:12<00:02, 68.31it/s]\n",
      "  1%|▍                                       | 11/1023 [00:00<00:09, 105.56it/s]"
     ]
    },
    {
     "name": "stdout",
     "output_type": "stream",
     "text": [
      "/home/qihao/CS6207/output_melody/melody_20240405:203238/梅花泪_seg0_1_Seg2.mid\n",
      "/home/qihao/CS6207/output_melody/melody_gt_20240405:203238/梅花泪_seg0_1_Seg2.mid\n",
      "Generating 37/53, Name: 梅花泪_seg0_1_Seg2\n"
     ]
    },
    {
     "name": "stderr",
     "output_type": "stream",
     "text": [
      " 87%|██████████████████████████████████▉     | 892/1023 [00:10<00:01, 82.45it/s]\n",
      "  1%|▍                                        | 10/1023 [00:00<00:10, 94.64it/s]"
     ]
    },
    {
     "name": "stdout",
     "output_type": "stream",
     "text": [
      "| WARNING: overlapping notes at ts 330\n",
      "| WARNING: overlapping notes at ts 553\n",
      "/home/qihao/CS6207/output_melody/melody_20240405:203238/小乌龟_seg0_1_Seg2.mid\n",
      "/home/qihao/CS6207/output_melody/melody_gt_20240405:203238/小乌龟_seg0_1_Seg2.mid\n",
      "Generating 38/53, Name: 小乌龟_seg0_1_Seg2\n"
     ]
    },
    {
     "name": "stderr",
     "output_type": "stream",
     "text": [
      " 61%|████████████████████████▌               | 629/1023 [00:07<00:04, 80.73it/s]\n",
      "  1%|▍                                        | 10/1023 [00:00<00:10, 98.54it/s]"
     ]
    },
    {
     "name": "stdout",
     "output_type": "stream",
     "text": [
      "/home/qihao/CS6207/output_melody/melody_20240405:203238/下雨了_seg0_1_Seg1.mid\n",
      "/home/qihao/CS6207/output_melody/melody_gt_20240405:203238/下雨了_seg0_1_Seg1.mid\n",
      "Generating 39/53, Name: 下雨了_seg0_1_Seg1\n"
     ]
    },
    {
     "name": "stderr",
     "output_type": "stream",
     "text": [
      " 57%|██████████████████████▉                 | 586/1023 [00:06<00:04, 91.43it/s]\n",
      "  1%|▍                                        | 10/1023 [00:00<00:10, 99.03it/s]"
     ]
    },
    {
     "name": "stdout",
     "output_type": "stream",
     "text": [
      "| WARNING: overlapping notes at ts 400\n",
      "| WARNING: overlapping notes at ts 403\n",
      "/home/qihao/CS6207/output_melody/melody_20240405:203238/菊花台_seg0_1_Seg1.mid\n",
      "/home/qihao/CS6207/output_melody/melody_gt_20240405:203238/菊花台_seg0_1_Seg1.mid\n",
      "Generating 40/53, Name: 菊花台_seg0_1_Seg1\n"
     ]
    },
    {
     "name": "stderr",
     "output_type": "stream",
     "text": [
      " 42%|████████████████▋                       | 428/1023 [00:04<00:06, 92.37it/s]\n",
      "  1%|▍                                        | 10/1023 [00:00<00:11, 90.16it/s]"
     ]
    },
    {
     "name": "stdout",
     "output_type": "stream",
     "text": [
      "/home/qihao/CS6207/output_melody/melody_20240405:203238/秋叶黄了想爹娘_seg0_1_Seg1.mid\n",
      "/home/qihao/CS6207/output_melody/melody_gt_20240405:203238/秋叶黄了想爹娘_seg0_1_Seg1.mid\n",
      "Generating 41/53, Name: 秋叶黄了想爹娘_seg0_1_Seg1\n"
     ]
    },
    {
     "name": "stderr",
     "output_type": "stream",
     "text": [
      " 39%|███████████████▋                        | 402/1023 [00:04<00:07, 83.54it/s]\n",
      "  1%|▍                                        | 10/1023 [00:00<00:10, 98.42it/s]"
     ]
    },
    {
     "name": "stdout",
     "output_type": "stream",
     "text": [
      "/home/qihao/CS6207/output_melody/melody_20240405:203238/包容_seg0_1_Seg2.mid\n",
      "/home/qihao/CS6207/output_melody/melody_gt_20240405:203238/包容_seg0_1_Seg2.mid\n",
      "Generating 42/53, Name: 包容_seg0_1_Seg2\n"
     ]
    },
    {
     "name": "stderr",
     "output_type": "stream",
     "text": [
      " 57%|██████████████████████▊                 | 584/1023 [00:06<00:05, 87.40it/s]\n",
      "  1%|▍                                        | 10/1023 [00:00<00:10, 98.12it/s]"
     ]
    },
    {
     "name": "stdout",
     "output_type": "stream",
     "text": [
      "/home/qihao/CS6207/output_melody/melody_20240405:203238/小草_seg0_1_Seg1.mid\n",
      "/home/qihao/CS6207/output_melody/melody_gt_20240405:203238/小草_seg0_1_Seg1.mid\n",
      "Generating 43/53, Name: 小草_seg0_1_Seg1\n"
     ]
    },
    {
     "name": "stderr",
     "output_type": "stream",
     "text": [
      " 61%|████████████████████████▍               | 625/1023 [00:07<00:04, 85.52it/s]\n",
      "  1%|▍                                        | 10/1023 [00:00<00:10, 98.81it/s]"
     ]
    },
    {
     "name": "stdout",
     "output_type": "stream",
     "text": [
      "/home/qihao/CS6207/output_melody/melody_20240405:203238/大王叫我来巡山【万万没想到】_seg0_1_Seg2.mid\n",
      "/home/qihao/CS6207/output_melody/melody_gt_20240405:203238/大王叫我来巡山【万万没想到】_seg0_1_Seg2.mid\n",
      "Generating 44/53, Name: 大王叫我来巡山【万万没想到】_seg0_1_Seg2\n"
     ]
    },
    {
     "name": "stderr",
     "output_type": "stream",
     "text": [
      " 64%|█████████████████████████▋              | 658/1023 [00:07<00:04, 84.73it/s]\n",
      "  1%|▍                                       | 11/1023 [00:00<00:09, 104.10it/s]"
     ]
    },
    {
     "name": "stdout",
     "output_type": "stream",
     "text": [
      "| WARNING: overlapping notes at ts 519\n",
      "/home/qihao/CS6207/output_melody/melody_20240405:203238/雪人_seg0_1_Seg1.mid\n",
      "/home/qihao/CS6207/output_melody/melody_gt_20240405:203238/雪人_seg0_1_Seg1.mid\n",
      "Generating 45/53, Name: 雪人_seg0_1_Seg1\n"
     ]
    },
    {
     "name": "stderr",
     "output_type": "stream",
     "text": [
      " 52%|████████████████████▉                   | 537/1023 [00:05<00:05, 95.02it/s]\n",
      "  1%|▍                                        | 10/1023 [00:00<00:11, 90.22it/s]"
     ]
    },
    {
     "name": "stdout",
     "output_type": "stream",
     "text": [
      "| WARNING: overlapping notes at ts 17\n",
      "| WARNING: overlapping notes at ts 28\n",
      "/home/qihao/CS6207/output_melody/melody_20240405:203238/隐形的翅膀_seg0_1_Seg2.mid\n",
      "/home/qihao/CS6207/output_melody/melody_gt_20240405:203238/隐形的翅膀_seg0_1_Seg2.mid\n",
      "Generating 46/53, Name: 隐形的翅膀_seg0_1_Seg2\n"
     ]
    },
    {
     "name": "stderr",
     "output_type": "stream",
     "text": [
      " 88%|███████████████████████████████████▎    | 904/1023 [00:13<00:01, 65.98it/s]\n",
      "  1%|▎                                         | 9/1023 [00:00<00:11, 86.26it/s]"
     ]
    },
    {
     "name": "stdout",
     "output_type": "stream",
     "text": [
      "/home/qihao/CS6207/output_melody/melody_20240405:203238/暖心_seg0_1_Seg2.mid\n",
      "/home/qihao/CS6207/output_melody/melody_gt_20240405:203238/暖心_seg0_1_Seg2.mid\n",
      "Generating 47/53, Name: 暖心_seg0_1_Seg2\n"
     ]
    },
    {
     "name": "stderr",
     "output_type": "stream",
     "text": [
      " 82%|████████████████████████████████▊       | 840/1023 [00:12<00:02, 64.99it/s]\n",
      "  1%|▍                                        | 10/1023 [00:00<00:11, 89.92it/s]"
     ]
    },
    {
     "name": "stdout",
     "output_type": "stream",
     "text": [
      "/home/qihao/CS6207/output_melody/melody_20240405:203238/少年锦时_seg0_1_Seg2.mid\n",
      "/home/qihao/CS6207/output_melody/melody_gt_20240405:203238/少年锦时_seg0_1_Seg2.mid\n",
      "Generating 48/53, Name: 少年锦时_seg0_1_Seg2\n"
     ]
    },
    {
     "name": "stderr",
     "output_type": "stream",
     "text": [
      " 82%|████████████████████████████████▋       | 836/1023 [00:12<00:02, 67.63it/s]\n",
      "  1%|▍                                       | 11/1023 [00:00<00:09, 107.52it/s]"
     ]
    },
    {
     "name": "stdout",
     "output_type": "stream",
     "text": [
      "| WARNING: overlapping notes at ts 830\n",
      "/home/qihao/CS6207/output_melody/melody_20240405:203238/姐姐_seg0_1_Seg2.mid\n",
      "/home/qihao/CS6207/output_melody/melody_gt_20240405:203238/姐姐_seg0_1_Seg2.mid\n",
      "Generating 49/53, Name: 姐姐_seg0_1_Seg2\n"
     ]
    },
    {
     "name": "stderr",
     "output_type": "stream",
     "text": [
      " 29%|███████████▏                           | 294/1023 [00:02<00:06, 105.04it/s]\n",
      "  1%|▎                                         | 8/1023 [00:00<00:13, 74.24it/s]"
     ]
    },
    {
     "name": "stdout",
     "output_type": "stream",
     "text": [
      "/home/qihao/CS6207/output_melody/melody_20240405:203238/去大理_seg0_1_Seg2.mid\n",
      "/home/qihao/CS6207/output_melody/melody_gt_20240405:203238/去大理_seg0_1_Seg2.mid\n",
      "Generating 50/53, Name: 去大理_seg0_1_Seg2\n"
     ]
    },
    {
     "name": "stderr",
     "output_type": "stream",
     "text": [
      " 95%|█████████████████████████████████████▉  | 970/1023 [00:18<00:01, 52.59it/s]\n",
      "  1%|▍                                        | 10/1023 [00:00<00:10, 94.58it/s]"
     ]
    },
    {
     "name": "stdout",
     "output_type": "stream",
     "text": [
      "| WARNING: overlapping notes at ts 690\n",
      "| WARNING: overlapping notes at ts 732\n",
      "| WARNING: overlapping notes at ts 801\n",
      "/home/qihao/CS6207/output_melody/melody_20240405:203238/好不容易_seg0_1_Seg1.mid\n",
      "/home/qihao/CS6207/output_melody/melody_gt_20240405:203238/好不容易_seg0_1_Seg1.mid\n",
      "Generating 51/53, Name: 好不容易_seg0_1_Seg1\n"
     ]
    },
    {
     "name": "stderr",
     "output_type": "stream",
     "text": [
      " 70%|███████████████████████████▊            | 712/1023 [00:09<00:04, 77.14it/s]\n",
      "  1%|▍                                        | 10/1023 [00:00<00:10, 98.34it/s]"
     ]
    },
    {
     "name": "stdout",
     "output_type": "stream",
     "text": [
      "/home/qihao/CS6207/output_melody/melody_20240405:203238/独家记忆_seg0_1_Seg1.mid\n",
      "/home/qihao/CS6207/output_melody/melody_gt_20240405:203238/独家记忆_seg0_1_Seg1.mid\n",
      "Generating 52/53, Name: 独家记忆_seg0_1_Seg1\n"
     ]
    },
    {
     "name": "stderr",
     "output_type": "stream",
     "text": [
      " 43%|█████████████████▏                      | 441/1023 [00:04<00:06, 92.02it/s]\n"
     ]
    },
    {
     "name": "stdout",
     "output_type": "stream",
     "text": [
      "/home/qihao/CS6207/output_melody/melody_20240405:203238/酒醉的探戈2001_seg0_1_Seg2.mid\n",
      "/home/qihao/CS6207/output_melody/melody_gt_20240405:203238/酒醉的探戈2001_seg0_1_Seg2.mid\n",
      "Generating 53/53, Name: 酒醉的探戈2001_seg0_1_Seg2\n"
     ]
    }
   ],
   "source": [
    "infer_l2m()"
   ]
  },
  {
   "cell_type": "code",
   "execution_count": null,
   "id": "8b913da9-c941-42e3-839f-cfe1a00978f3",
   "metadata": {},
   "outputs": [],
   "source": []
  }
 ],
 "metadata": {
  "kernelspec": {
   "display_name": "Python (xailyr)",
   "language": "python",
   "name": "xailyr"
  },
  "language_info": {
   "codemirror_mode": {
    "name": "ipython",
    "version": 3
   },
   "file_extension": ".py",
   "mimetype": "text/x-python",
   "name": "python",
   "nbconvert_exporter": "python",
   "pygments_lexer": "ipython3",
   "version": "3.9.1"
  }
 },
 "nbformat": 4,
 "nbformat_minor": 5
}
