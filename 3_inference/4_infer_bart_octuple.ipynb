{
 "cells": [
  {
   "cell_type": "code",
   "execution_count": 27,
   "id": "54616499-4aa6-4106-b05f-5b2f8e508329",
   "metadata": {
    "tags": []
   },
   "outputs": [],
   "source": [
    "import os, sys\n",
    "os.environ['PYTHONPATH'] = '/home/qihao/CS6207'\n",
    "sys.path.append('/home/qihao/CS6207')\n",
    "import pickle\n",
    "import random\n",
    "import subprocess\n",
    "import torch.cuda\n",
    "import torch\n",
    "import numpy as np\n",
    "from torch.utils.tensorboard import SummaryWriter\n",
    "from utils.earlystopping.protocols import EarlyStopping\n",
    "from utils.test_dataloder import *\n",
    "import datetime\n",
    "from utils.get_time import get_time\n",
    "import gc\n",
    "from tqdm import tqdm\n",
    "from utils.warmup import *\n",
    "import torch.nn.functional as F\n",
    "from models.bartmodel_octuple import Bart\n",
    "from transformers import get_linear_schedule_with_warmup"
   ]
  },
  {
   "cell_type": "code",
   "execution_count": 28,
   "id": "4e696daa-1c57-4b35-8aad-3c65bde8fbb9",
   "metadata": {},
   "outputs": [],
   "source": [
    "device = torch.device(\"cuda:3\" if torch.cuda.is_available() else \"cpu\")"
   ]
  },
  {
   "cell_type": "code",
   "execution_count": 29,
   "id": "7b52e9a3-3226-4ca6-982b-c357a3e23789",
   "metadata": {},
   "outputs": [],
   "source": [
    "ckpt_name = 'checkpoint_20240406:190014_lr_5e-05'\n",
    "# ckpt_dir = f'/home/qihao/CS6207/octuple/checkpoints/{ckpt_name}'\n",
    "ckpt_dir = f'/data1/qihao/cs6207/octuple/checkpoints/{ckpt_name}'"
   ]
  },
  {
   "cell_type": "code",
   "execution_count": 30,
   "id": "da90aa88-dabb-44e9-8df1-6215d474e968",
   "metadata": {},
   "outputs": [],
   "source": [
    "src_keys = ['strength', 'length', 'phrase']\n",
    "tgt_keys = ['bar', 'pos', 'token', 'dur', 'phrase']\n",
    "\n",
    "binary_dir = '/data1/qihao/cs6207/octuple/binary_909'\n",
    "# words_dir = '/data1/qihao/cs6207/octuple/binary/words' ## pretrain\n",
    "words_dir = '/data1/qihao/cs6207/octuple/binary_909/words' ## 909\n",
    "hparams = {\n",
    "    'batch_size': 1,\n",
    "    'word_data_dir': words_dir,\n",
    "    'sentence_maxlen': 512,\n",
    "    'hidden_size': 768,\n",
    "    'n_layers': 6,\n",
    "    'n_head': 8,\n",
    "    'pretrain': '',\n",
    "    'lr': 5.0e-5,\n",
    "    'optimizer_adam_beta1': 0.9,\n",
    "    'optimizer_adam_beta2': 0.98,\n",
    "    'weight_decay': 0.001,\n",
    "    'patience': 5,\n",
    "    'warmup': 2500,\n",
    "    'lr': 5.0e-5,\n",
    "    'checkpoint_dir': '/home/qihao/CS6207/octuple/checkpoints',\n",
    "    'drop_prob': 0.2,\n",
    "    'total_epoch': 1000,\n",
    "    'infer_batch_size': 1,\n",
    "    'temperature': 1.5,\n",
    "    'topk': 5,\n",
    "    'prompt_step': 1,\n",
    "    'infer_max_step': 1024,\n",
    "    'output_dir': \"/home/qihao/CS6207/octuple/output\",\n",
    "}"
   ]
  },
  {
   "cell_type": "code",
   "execution_count": 31,
   "id": "9f197dd9-a209-46c7-96e8-664a52ed6176",
   "metadata": {},
   "outputs": [],
   "source": [
    "def set_seed(seed=1234):  # seed setting\n",
    "    random.seed(seed)\n",
    "    np.random.seed(seed)\n",
    "    torch.manual_seed(seed)\n",
    "    torch.cuda.manual_seed(seed)\n",
    "    torch.cuda.manual_seed_all(seed)\n",
    "    # cuDNN在使用deterministic模式时（下面两行），可能会造成性能下降（取决于model）\n",
    "    torch.backends.cudnn.deterministic = True\n",
    "    torch.backends.cudnn.benchmark = False"
   ]
  },
  {
   "cell_type": "code",
   "execution_count": 32,
   "id": "5601fb7c-9c8f-4808-8180-c3ba34201b7b",
   "metadata": {},
   "outputs": [],
   "source": [
    "def load_model(checkpoint_path, device):\n",
    "    model = Bart(event2word_dict=event2word_dict, \n",
    "                 word2event_dict=word2event_dict, \n",
    "                 model_pth='',\n",
    "                 hidden_size=hparams['hidden_size'], \n",
    "                 num_layers=hparams['n_layers'], \n",
    "                 num_heads=hparams['n_head'], \n",
    "                 dropout=hparams['drop_prob'],).to(device)\n",
    "\n",
    "    model.load_state_dict(torch.load(checkpoint_path, map_location=device), strict=True)\n",
    "    model.eval()\n",
    "    print(f\"| Successfully loaded bart ckpt from {checkpoint_path}.\")\n",
    "    return model"
   ]
  },
  {
   "cell_type": "code",
   "execution_count": 33,
   "id": "ab05e2b0-a7ec-4d65-96be-87178a053308",
   "metadata": {},
   "outputs": [],
   "source": [
    "def xe_loss(outputs, targets):\n",
    "    outputs = outputs.transpose(1, 2)\n",
    "    return F.cross_entropy(outputs, targets, ignore_index=0, reduction='mean')"
   ]
  },
  {
   "cell_type": "code",
   "execution_count": 36,
   "id": "86b780a0-a2b8-4ae8-b51d-d8d3bd5d391d",
   "metadata": {},
   "outputs": [],
   "source": [
    "def infer_l2m():\n",
    "    ## -------------------\n",
    "    ##     Bart Model\n",
    "    ## -------------------\n",
    "    set_seed()\n",
    "    print(f\"Using device: {device} for inferences custom samples\")\n",
    "    \n",
    "    # training conditions (for naming the ckpt)\n",
    "    lr = hparams['lr']\n",
    "    \n",
    "    ckpt_path = os.path.join(ckpt_dir, 'best.pt')\n",
    "\n",
    "    # load dictionary\n",
    "    event2word_dict, word2event_dict = pickle.load(open(f\"{binary_dir}/music_dict.pkl\", 'rb'))\n",
    "    \n",
    "    test_dataset = L2MDataset('test', event2word_dict, hparams, shuffle=True)\n",
    "    test_loader = build_dataloader(dataset=test_dataset, shuffle=True, batch_size=hparams['infer_batch_size'], endless=False)\n",
    "    \n",
    "    print(f\"Test Datalodaer = {len(test_loader)} Songs\")\n",
    "\n",
    "    # load melody generation model based on skeleton framework\n",
    "    model = Bart(event2word_dict=event2word_dict, \n",
    "                 word2event_dict=word2event_dict, \n",
    "                 model_pth='',\n",
    "                 hidden_size=hparams['hidden_size'], \n",
    "                 num_layers=hparams['n_layers'], \n",
    "                 num_heads=hparams['n_head'], \n",
    "                 dropout=hparams['drop_prob'],).to(device)\n",
    "    model.load_state_dict(torch.load(ckpt_path, map_location=device), strict=True)\n",
    "    model.eval()\n",
    "    print(f\"| Successfully loaded bart ckpt from {ckpt_path}.\")\n",
    "\n",
    "    # -------------------------------------------------------------------------------------------\n",
    "    # Inference file path\n",
    "    # -------------------------------------------------------------------------------------------\n",
    "    exp_date = get_time()\n",
    "    melody_output_dir = os.path.join(hparams['output_dir'], f'melody_{exp_date}')\n",
    "    if not os.path.exists(melody_output_dir):\n",
    "        os.mkdir(melody_output_dir)\n",
    "    \n",
    "    ### randomly sample from test data\n",
    "    import random\n",
    "\n",
    "    num_sample = 50\n",
    "    random_integers = random.sample(range(0, len(test_loader)-1), num_sample)\n",
    "    \n",
    "    # prompt_step = hparams['prompt_step']\n",
    "    \n",
    "    for data_idx, data in enumerate(test_loader):\n",
    "        # print(data)\n",
    "        if data_idx not in random_integers:\n",
    "            continue\n",
    "        try:\n",
    "            data_name = data['item_name'][0] if '.mid' not in data['item_name'][0] else data['item_name'][0][:-4]\n",
    "\n",
    "            enc_inputs = {k: data[f'src_{k}'].to(device) for k in src_keys}\n",
    "            dec_inputs = {k: data[f'tgt_{k}'].to(device) for k in tgt_keys}\n",
    "            \n",
    "            # print(enc_inputs['strength'].shape)\n",
    "            \n",
    "            # prompt_step = dec_inputs['token'].shape[-1]  ## output gt\n",
    "            prompt_step = hparams['prompt_step']\n",
    "            \n",
    "            dec_inputs_selected = {\n",
    "                'bar': dec_inputs['bar'][:, :prompt_step],\n",
    "                'pos': dec_inputs['pos'][:, :prompt_step],\n",
    "                'token': dec_inputs['token'][:, :prompt_step],\n",
    "                'dur': dec_inputs['dur'][:, :prompt_step],\n",
    "                'phrase': dec_inputs['phrase'][:, :prompt_step],\n",
    "            }\n",
    "            # print(enc_inputs)\n",
    "            # print(dec_inputs_selected)\n",
    "            \n",
    "            decode_length = dec_inputs['token'].shape[-1]\n",
    "            max_sent_len = 1024\n",
    "            \n",
    "            print(f\"Expected decode length: {decode_length}\")\n",
    "            _ = model.infer(enc_inputs=enc_inputs, \n",
    "                            dec_inputs_gt=dec_inputs_selected, \n",
    "                            decode_length=decode_length,\n",
    "                            sentence_maxlen=max_sent_len, \n",
    "                            temperature=hparams['temperature'], \n",
    "                            topk=hparams['topk'], \n",
    "                            device=device, \n",
    "                            output_dir=melody_output_dir, \n",
    "                            midi_name=data_name)\n",
    "            \n",
    "            print(f\"Generating {data_idx+1}/{len(test_loader)}, Name: {data_name}\")\n",
    "        except Exception as e:\n",
    "            traceback.print_exc()\n",
    "            print(f\"-!-!-!-!-!-!-!-!-!-!-!-!-!-!-!-!-!-!-!-!-!-!-!-!-!-!-!-!-!-!-!-!-!-!-!-!-!-!-\\nBad Item: {data_name}\")"
   ]
  },
  {
   "cell_type": "code",
   "execution_count": 37,
   "id": "cdca57e4-ea82-46a9-93b3-85c50395b3e4",
   "metadata": {},
   "outputs": [
    {
     "name": "stdout",
     "output_type": "stream",
     "text": [
      "Using device: cuda:3 for inferences custom samples\n",
      "Test Datalodaer = 60 Songs\n",
      "| Successfully loaded bart ckpt from /data1/qihao/cs6207/octuple/checkpoints/checkpoint_20240406:190014_lr_5e-05/best.pt.\n"
     ]
    },
    {
     "name": "stderr",
     "output_type": "stream",
     "text": [
      "  1%|▋                                                                                                      | 7/1024 [00:00<00:14, 68.55it/s]"
     ]
    },
    {
     "name": "stdout",
     "output_type": "stream",
     "text": [
      "Expected decode length: 169\n"
     ]
    },
    {
     "name": "stderr",
     "output_type": "stream",
     "text": [
      " 16%|████████████████▍                                                                                    | 167/1024 [00:02<00:12, 70.16it/s]\n",
      "  1%|▋                                                                                                      | 7/1024 [00:00<00:15, 67.73it/s]"
     ]
    },
    {
     "name": "stdout",
     "output_type": "stream",
     "text": [
      "Decode ends at step 167\n",
      "/home/qihao/CS6207/octuple/output/melody_20240418:131658/剪爱_seg0_1_Seg2.mid\n",
      "Generating 2/60, Name: 剪爱_seg0_1_Seg2\n",
      "Expected decode length: 216\n"
     ]
    },
    {
     "name": "stderr",
     "output_type": "stream",
     "text": [
      " 21%|█████████████████████                                                                                | 214/1024 [00:03<00:11, 68.68it/s]\n",
      "  1%|▉                                                                                                      | 9/1024 [00:00<00:11, 88.61it/s]"
     ]
    },
    {
     "name": "stdout",
     "output_type": "stream",
     "text": [
      "Decode ends at step 214\n",
      "/home/qihao/CS6207/octuple/output/melody_20240418:131658/你的样子_seg0_1_Seg1.mid\n",
      "Generating 3/60, Name: 你的样子_seg0_1_Seg1\n",
      "Expected decode length: 167\n"
     ]
    },
    {
     "name": "stderr",
     "output_type": "stream",
     "text": [
      " 16%|████████████████▎                                                                                    | 165/1024 [00:02<00:11, 71.80it/s]\n",
      "  1%|▊                                                                                                      | 8/1024 [00:00<00:13, 75.02it/s]"
     ]
    },
    {
     "name": "stdout",
     "output_type": "stream",
     "text": [
      "Decode ends at step 165\n",
      "/home/qihao/CS6207/octuple/output/melody_20240418:131658/类似爱情_seg0_1_Seg1.mid\n",
      "Generating 4/60, Name: 类似爱情_seg0_1_Seg1\n",
      "Expected decode length: 138\n"
     ]
    },
    {
     "name": "stderr",
     "output_type": "stream",
     "text": [
      " 13%|█████████████▍                                                                                       | 136/1024 [00:01<00:12, 72.16it/s]\n",
      "  1%|▉                                                                                                      | 9/1024 [00:00<00:11, 89.25it/s]"
     ]
    },
    {
     "name": "stdout",
     "output_type": "stream",
     "text": [
      "Decode ends at step 136\n",
      "/home/qihao/CS6207/octuple/output/melody_20240418:131658/最远的你是我最近的爱_seg0_1_Seg1.mid\n",
      "Generating 5/60, Name: 最远的你是我最近的爱_seg0_1_Seg1\n",
      "Expected decode length: 117\n"
     ]
    },
    {
     "name": "stderr",
     "output_type": "stream",
     "text": [
      " 11%|███████████▎                                                                                         | 115/1024 [00:01<00:10, 86.25it/s]\n",
      "  1%|▉                                                                                                      | 9/1024 [00:00<00:11, 88.42it/s]"
     ]
    },
    {
     "name": "stdout",
     "output_type": "stream",
     "text": [
      "Decode ends at step 115\n",
      "/home/qihao/CS6207/octuple/output/melody_20240418:131658/雪人_seg0_1_Seg1.mid\n",
      "Generating 6/60, Name: 雪人_seg0_1_Seg1\n",
      "Expected decode length: 129\n"
     ]
    },
    {
     "name": "stderr",
     "output_type": "stream",
     "text": [
      " 12%|████████████▌                                                                                        | 127/1024 [00:01<00:10, 86.72it/s]\n",
      "  1%|▉                                                                                                      | 9/1024 [00:00<00:11, 86.47it/s]"
     ]
    },
    {
     "name": "stdout",
     "output_type": "stream",
     "text": [
      "Decode ends at step 127\n",
      "/home/qihao/CS6207/octuple/output/melody_20240418:131658/晚秋_seg0_1_Seg1.mid\n",
      "Generating 8/60, Name: 晚秋_seg0_1_Seg1\n",
      "Expected decode length: 72\n"
     ]
    },
    {
     "name": "stderr",
     "output_type": "stream",
     "text": [
      "  8%|███████▋                                                                                              | 77/1024 [00:00<00:11, 86.00it/s]\n",
      "  1%|▉                                                                                                      | 9/1024 [00:00<00:11, 89.78it/s]"
     ]
    },
    {
     "name": "stdout",
     "output_type": "stream",
     "text": [
      "Decode ends at step 77\n",
      "/home/qihao/CS6207/octuple/output/melody_20240418:131658/小乌龟_seg0_1_Seg2.mid\n",
      "Generating 9/60, Name: 小乌龟_seg0_1_Seg2\n",
      "Expected decode length: 99\n"
     ]
    },
    {
     "name": "stderr",
     "output_type": "stream",
     "text": [
      "  9%|█████████▋                                                                                            | 97/1024 [00:01<00:11, 83.12it/s]\n",
      "  1%|▌                                                                                                      | 6/1024 [00:00<00:18, 55.52it/s]"
     ]
    },
    {
     "name": "stdout",
     "output_type": "stream",
     "text": [
      "Decode ends at step 97\n",
      "/home/qihao/CS6207/octuple/output/melody_20240418:131658/命运不是辘轳_seg0_1_Seg1.mid\n",
      "Generating 10/60, Name: 命运不是辘轳_seg0_1_Seg1\n",
      "Expected decode length: 174\n"
     ]
    },
    {
     "name": "stderr",
     "output_type": "stream",
     "text": [
      " 17%|████████████████▉                                                                                    | 172/1024 [00:02<00:11, 75.00it/s]\n",
      "  1%|▉                                                                                                      | 9/1024 [00:00<00:12, 81.86it/s]"
     ]
    },
    {
     "name": "stdout",
     "output_type": "stream",
     "text": [
      "Decode ends at step 172\n",
      "/home/qihao/CS6207/octuple/output/melody_20240418:131658/梅花泪_seg0_1_Seg2.mid\n",
      "Generating 11/60, Name: 梅花泪_seg0_1_Seg2\n",
      "Expected decode length: 78\n"
     ]
    },
    {
     "name": "stderr",
     "output_type": "stream",
     "text": [
      "  8%|███████▊                                                                                              | 79/1024 [00:00<00:11, 84.94it/s]\n",
      "  1%|▉                                                                                                     | 10/1024 [00:00<00:11, 90.38it/s]"
     ]
    },
    {
     "name": "stdout",
     "output_type": "stream",
     "text": [
      "Decode ends at step 79\n",
      "/home/qihao/CS6207/octuple/output/melody_20240418:131658/去大理_seg0_1_Seg2.mid\n",
      "Generating 12/60, Name: 去大理_seg0_1_Seg2\n",
      "Expected decode length: 217\n"
     ]
    },
    {
     "name": "stderr",
     "output_type": "stream",
     "text": [
      " 21%|█████████████████████▏                                                                               | 215/1024 [00:02<00:09, 86.65it/s]\n",
      "  1%|▉                                                                                                      | 9/1024 [00:00<00:11, 85.80it/s]"
     ]
    },
    {
     "name": "stdout",
     "output_type": "stream",
     "text": [
      "Decode ends at step 215\n",
      "/home/qihao/CS6207/octuple/output/melody_20240418:131658/难道爱一个人有错吗_seg0_1_Seg2.mid\n",
      "Generating 13/60, Name: 难道爱一个人有错吗_seg0_1_Seg2\n",
      "Expected decode length: 157\n"
     ]
    },
    {
     "name": "stderr",
     "output_type": "stream",
     "text": [
      " 15%|███████████████▎                                                                                     | 155/1024 [00:01<00:10, 79.22it/s]\n",
      "  1%|▊                                                                                                      | 8/1024 [00:00<00:13, 72.89it/s]"
     ]
    },
    {
     "name": "stdout",
     "output_type": "stream",
     "text": [
      "Decode ends at step 155\n",
      "/home/qihao/CS6207/octuple/output/melody_20240418:131658/等不到的爱_seg0_1_Seg2.mid\n",
      "Generating 14/60, Name: 等不到的爱_seg0_1_Seg2\n",
      "Expected decode length: 98\n"
     ]
    },
    {
     "name": "stderr",
     "output_type": "stream",
     "text": [
      "  9%|█████████▌                                                                                            | 96/1024 [00:01<00:12, 71.84it/s]\n",
      "  1%|▋                                                                                                      | 7/1024 [00:00<00:14, 69.63it/s]"
     ]
    },
    {
     "name": "stdout",
     "output_type": "stream",
     "text": [
      "Decode ends at step 96\n",
      "/home/qihao/CS6207/octuple/output/melody_20240418:131658/梨花又开放_seg0_1_Seg1.mid\n",
      "Generating 15/60, Name: 梨花又开放_seg0_1_Seg1\n",
      "Expected decode length: 354\n"
     ]
    },
    {
     "name": "stderr",
     "output_type": "stream",
     "text": [
      " 34%|██████████████████████████████████▋                                                                  | 352/1024 [00:04<00:09, 71.75it/s]\n",
      "  1%|▉                                                                                                      | 9/1024 [00:00<00:12, 82.89it/s]"
     ]
    },
    {
     "name": "stdout",
     "output_type": "stream",
     "text": [
      "Decode ends at step 352\n",
      "/home/qihao/CS6207/octuple/output/melody_20240418:131658/一个人的寂寞两个人的错_seg0_1_Seg1.mid\n",
      "Generating 16/60, Name: 一个人的寂寞两个人的错_seg0_1_Seg1\n",
      "Expected decode length: 167\n"
     ]
    },
    {
     "name": "stderr",
     "output_type": "stream",
     "text": [
      " 16%|████████████████▎                                                                                    | 165/1024 [00:02<00:10, 82.21it/s]\n",
      "  1%|▉                                                                                                      | 9/1024 [00:00<00:12, 80.88it/s]"
     ]
    },
    {
     "name": "stdout",
     "output_type": "stream",
     "text": [
      "Decode ends at step 165\n",
      "/home/qihao/CS6207/octuple/output/melody_20240418:131658/下雨了_seg0_1_Seg1.mid\n",
      "Generating 18/60, Name: 下雨了_seg0_1_Seg1\n",
      "Expected decode length: 200\n"
     ]
    },
    {
     "name": "stderr",
     "output_type": "stream",
     "text": [
      " 19%|███████████████████▌                                                                                 | 198/1024 [00:02<00:11, 72.23it/s]\n",
      "  1%|▊                                                                                                      | 8/1024 [00:00<00:14, 72.16it/s]"
     ]
    },
    {
     "name": "stdout",
     "output_type": "stream",
     "text": [
      "Decode ends at step 198\n",
      "/home/qihao/CS6207/octuple/output/melody_20240418:131658/长长的路慢慢地走_seg0_1_Seg2.mid\n",
      "Generating 19/60, Name: 长长的路慢慢地走_seg0_1_Seg2\n",
      "Expected decode length: 207\n"
     ]
    },
    {
     "name": "stderr",
     "output_type": "stream",
     "text": [
      " 20%|████████████████████▏                                                                                | 205/1024 [00:02<00:10, 81.51it/s]\n",
      "  1%|▉                                                                                                     | 10/1024 [00:00<00:10, 94.93it/s]"
     ]
    },
    {
     "name": "stdout",
     "output_type": "stream",
     "text": [
      "Decode ends at step 205\n",
      "/home/qihao/CS6207/octuple/output/melody_20240418:131658/为你我受冷风吹_seg0_1_Seg2.mid\n",
      "Generating 20/60, Name: 为你我受冷风吹_seg0_1_Seg2\n",
      "Expected decode length: 181\n"
     ]
    },
    {
     "name": "stderr",
     "output_type": "stream",
     "text": [
      " 17%|█████████████████▋                                                                                   | 179/1024 [00:02<00:11, 75.31it/s]\n",
      "  1%|▊                                                                                                      | 8/1024 [00:00<00:14, 70.34it/s]"
     ]
    },
    {
     "name": "stdout",
     "output_type": "stream",
     "text": [
      "Decode ends at step 179\n",
      "/home/qihao/CS6207/octuple/output/melody_20240418:131658/没有你陪伴我真的好孤单_seg0_1_Seg1.mid\n",
      "Generating 21/60, Name: 没有你陪伴我真的好孤单_seg0_1_Seg1\n",
      "Expected decode length: 174\n"
     ]
    },
    {
     "name": "stderr",
     "output_type": "stream",
     "text": [
      " 17%|████████████████▉                                                                                    | 172/1024 [00:02<00:11, 72.04it/s]\n",
      "  1%|▊                                                                                                      | 8/1024 [00:00<00:14, 70.07it/s]"
     ]
    },
    {
     "name": "stdout",
     "output_type": "stream",
     "text": [
      "Decode ends at step 172\n",
      "/home/qihao/CS6207/octuple/output/melody_20240418:131658/在心里从此永远有个你_seg0_1_Seg1.mid\n",
      "Generating 23/60, Name: 在心里从此永远有个你_seg0_1_Seg1\n",
      "Expected decode length: 184\n"
     ]
    },
    {
     "name": "stderr",
     "output_type": "stream",
     "text": [
      " 18%|█████████████████▉                                                                                   | 182/1024 [00:02<00:11, 71.69it/s]\n",
      "  1%|▊                                                                                                      | 8/1024 [00:00<00:14, 71.77it/s]"
     ]
    },
    {
     "name": "stdout",
     "output_type": "stream",
     "text": [
      "Decode ends at step 182\n",
      "/home/qihao/CS6207/octuple/output/melody_20240418:131658/如果当时_seg0_1_Seg2.mid\n",
      "Generating 24/60, Name: 如果当时_seg0_1_Seg2\n",
      "Expected decode length: 141\n"
     ]
    },
    {
     "name": "stderr",
     "output_type": "stream",
     "text": [
      " 14%|█████████████▋                                                                                       | 139/1024 [00:01<00:11, 74.07it/s]\n",
      "  1%|▊                                                                                                      | 8/1024 [00:00<00:13, 73.43it/s]"
     ]
    },
    {
     "name": "stdout",
     "output_type": "stream",
     "text": [
      "Decode ends at step 139\n",
      "/home/qihao/CS6207/octuple/output/melody_20240418:131658/秋叶黄了想爹娘_seg0_1_Seg1.mid\n",
      "Generating 25/60, Name: 秋叶黄了想爹娘_seg0_1_Seg1\n",
      "Expected decode length: 172\n"
     ]
    },
    {
     "name": "stderr",
     "output_type": "stream",
     "text": [
      " 17%|████████████████▊                                                                                    | 170/1024 [00:02<00:12, 70.99it/s]\n",
      "  1%|▊                                                                                                      | 8/1024 [00:00<00:13, 77.74it/s]"
     ]
    },
    {
     "name": "stdout",
     "output_type": "stream",
     "text": [
      "Decode ends at step 170\n",
      "/home/qihao/CS6207/octuple/output/melody_20240418:131658/最重要的决定_seg0_1_Seg1.mid\n",
      "Generating 26/60, Name: 最重要的决定_seg0_1_Seg1\n",
      "Expected decode length: 99\n"
     ]
    },
    {
     "name": "stderr",
     "output_type": "stream",
     "text": [
      "  9%|█████████▋                                                                                            | 97/1024 [00:01<00:13, 70.13it/s]\n",
      "  1%|▊                                                                                                      | 8/1024 [00:00<00:13, 74.38it/s]"
     ]
    },
    {
     "name": "stdout",
     "output_type": "stream",
     "text": [
      "Decode ends at step 97\n",
      "/home/qihao/CS6207/octuple/output/melody_20240418:131658/别再说_seg0_1_Seg2.mid\n",
      "Generating 27/60, Name: 别再说_seg0_1_Seg2\n",
      "Expected decode length: 133\n"
     ]
    },
    {
     "name": "stderr",
     "output_type": "stream",
     "text": [
      " 13%|████████████▉                                                                                        | 131/1024 [00:01<00:11, 78.18it/s]\n",
      "  1%|▊                                                                                                      | 8/1024 [00:00<00:13, 75.30it/s]"
     ]
    },
    {
     "name": "stdout",
     "output_type": "stream",
     "text": [
      "Decode ends at step 131\n",
      "/home/qihao/CS6207/octuple/output/melody_20240418:131658/雁南飞_seg0_1_Seg1.mid\n",
      "Generating 28/60, Name: 雁南飞_seg0_1_Seg1\n",
      "Expected decode length: 343\n"
     ]
    },
    {
     "name": "stderr",
     "output_type": "stream",
     "text": [
      " 33%|█████████████████████████████████▋                                                                   | 341/1024 [00:04<00:09, 73.42it/s]\n",
      "  1%|▉                                                                                                     | 10/1024 [00:00<00:11, 90.94it/s]"
     ]
    },
    {
     "name": "stdout",
     "output_type": "stream",
     "text": [
      "Decode ends at step 341\n",
      "/home/qihao/CS6207/octuple/output/melody_20240418:131658/嘴巴嘟嘟_seg0_1_Seg1.mid\n",
      "Generating 29/60, Name: 嘴巴嘟嘟_seg0_1_Seg1\n",
      "Expected decode length: 172\n"
     ]
    },
    {
     "name": "stderr",
     "output_type": "stream",
     "text": [
      " 17%|████████████████▊                                                                                    | 170/1024 [00:02<00:11, 73.78it/s]\n",
      "  1%|▊                                                                                                      | 8/1024 [00:00<00:14, 72.28it/s]"
     ]
    },
    {
     "name": "stdout",
     "output_type": "stream",
     "text": [
      "Decode ends at step 170\n",
      "/home/qihao/CS6207/octuple/output/melody_20240418:131658/包容_seg0_1_Seg2.mid\n",
      "Generating 30/60, Name: 包容_seg0_1_Seg2\n",
      "Expected decode length: 186\n"
     ]
    },
    {
     "name": "stderr",
     "output_type": "stream",
     "text": [
      " 18%|██████████████████▏                                                                                  | 184/1024 [00:02<00:11, 70.25it/s]\n",
      "  1%|▊                                                                                                      | 8/1024 [00:00<00:14, 69.96it/s]"
     ]
    },
    {
     "name": "stdout",
     "output_type": "stream",
     "text": [
      "Decode ends at step 184\n",
      "/home/qihao/CS6207/octuple/output/melody_20240418:131658/手掌心_seg0_1_Seg2.mid\n",
      "Generating 31/60, Name: 手掌心_seg0_1_Seg2\n",
      "Expected decode length: 221\n"
     ]
    },
    {
     "name": "stderr",
     "output_type": "stream",
     "text": [
      " 21%|█████████████████████▌                                                                               | 219/1024 [00:02<00:10, 75.98it/s]\n",
      "  1%|▊                                                                                                      | 8/1024 [00:00<00:13, 76.69it/s]"
     ]
    },
    {
     "name": "stdout",
     "output_type": "stream",
     "text": [
      "Decode ends at step 219\n",
      "/home/qihao/CS6207/octuple/output/melody_20240418:131658/一眼万年_seg0_1_Seg2.mid\n",
      "Generating 32/60, Name: 一眼万年_seg0_1_Seg2\n",
      "Expected decode length: 138\n"
     ]
    },
    {
     "name": "stderr",
     "output_type": "stream",
     "text": [
      " 13%|█████████████▍                                                                                       | 136/1024 [00:01<00:12, 73.14it/s]\n",
      "  1%|▊                                                                                                      | 8/1024 [00:00<00:13, 73.36it/s]"
     ]
    },
    {
     "name": "stdout",
     "output_type": "stream",
     "text": [
      "Decode ends at step 136\n",
      "/home/qihao/CS6207/octuple/output/melody_20240418:131658/酒醉的探戈2001_seg0_1_Seg2.mid\n",
      "Generating 33/60, Name: 酒醉的探戈2001_seg0_1_Seg2\n",
      "Expected decode length: 127\n"
     ]
    },
    {
     "name": "stderr",
     "output_type": "stream",
     "text": [
      " 12%|████████████▎                                                                                        | 125/1024 [00:01<00:12, 72.55it/s]\n",
      "  1%|▊                                                                                                      | 8/1024 [00:00<00:12, 79.91it/s]"
     ]
    },
    {
     "name": "stdout",
     "output_type": "stream",
     "text": [
      "Decode ends at step 125\n",
      "/home/qihao/CS6207/octuple/output/melody_20240418:131658/菊花台_seg0_1_Seg1.mid\n",
      "Generating 34/60, Name: 菊花台_seg0_1_Seg1\n",
      "Expected decode length: 164\n"
     ]
    },
    {
     "name": "stderr",
     "output_type": "stream",
     "text": [
      " 16%|███████████████▉                                                                                     | 162/1024 [00:02<00:11, 73.21it/s]\n",
      "  1%|▊                                                                                                      | 8/1024 [00:00<00:14, 71.41it/s]"
     ]
    },
    {
     "name": "stdout",
     "output_type": "stream",
     "text": [
      "Decode ends at step 162\n",
      "/home/qihao/CS6207/octuple/output/melody_20240418:131658/突然好想你_seg0_1_Seg1.mid\n",
      "Generating 36/60, Name: 突然好想你_seg0_1_Seg1\n",
      "Expected decode length: 296\n"
     ]
    },
    {
     "name": "stderr",
     "output_type": "stream",
     "text": [
      " 29%|████████████████████████████▉                                                                        | 294/1024 [00:04<00:10, 72.03it/s]\n",
      "  1%|▉                                                                                                      | 9/1024 [00:00<00:12, 81.39it/s]"
     ]
    },
    {
     "name": "stdout",
     "output_type": "stream",
     "text": [
      "Decode ends at step 294\n",
      "/home/qihao/CS6207/octuple/output/melody_20240418:131658/别说我的眼泪你无所谓_seg0_1_Seg1.mid\n",
      "Generating 38/60, Name: 别说我的眼泪你无所谓_seg0_1_Seg1\n",
      "Expected decode length: 81\n"
     ]
    },
    {
     "name": "stderr",
     "output_type": "stream",
     "text": [
      "  8%|███████▊                                                                                              | 79/1024 [00:00<00:11, 82.75it/s]\n",
      "  1%|▉                                                                                                      | 9/1024 [00:00<00:11, 89.95it/s]"
     ]
    },
    {
     "name": "stdout",
     "output_type": "stream",
     "text": [
      "Decode ends at step 79\n",
      "/home/qihao/CS6207/octuple/output/melody_20240418:131658/牧羊曲_seg0_1_Seg2.mid\n",
      "Generating 39/60, Name: 牧羊曲_seg0_1_Seg2\n",
      "Expected decode length: 305\n"
     ]
    },
    {
     "name": "stderr",
     "output_type": "stream",
     "text": [
      " 30%|█████████████████████████████▉                                                                       | 303/1024 [00:03<00:08, 85.68it/s]\n",
      "  1%|▉                                                                                                     | 10/1024 [00:00<00:11, 90.49it/s]"
     ]
    },
    {
     "name": "stdout",
     "output_type": "stream",
     "text": [
      "Decode ends at step 303\n",
      "/home/qihao/CS6207/octuple/output/melody_20240418:131658/最初的记忆_seg0_1_Seg1.mid\n",
      "Generating 40/60, Name: 最初的记忆_seg0_1_Seg1\n",
      "Expected decode length: 220\n"
     ]
    },
    {
     "name": "stderr",
     "output_type": "stream",
     "text": [
      " 21%|█████████████████████▌                                                                               | 218/1024 [00:02<00:09, 87.48it/s]\n",
      "  1%|▉                                                                                                      | 9/1024 [00:00<00:12, 82.11it/s]"
     ]
    },
    {
     "name": "stdout",
     "output_type": "stream",
     "text": [
      "Decode ends at step 218\n",
      "/home/qihao/CS6207/octuple/output/melody_20240418:131658/少年锦时_seg0_1_Seg2.mid\n",
      "Generating 41/60, Name: 少年锦时_seg0_1_Seg2\n",
      "Expected decode length: 340\n"
     ]
    },
    {
     "name": "stderr",
     "output_type": "stream",
     "text": [
      " 33%|█████████████████████████████████▎                                                                   | 338/1024 [00:04<00:09, 69.37it/s]\n",
      "  1%|▊                                                                                                      | 8/1024 [00:00<00:13, 77.47it/s]"
     ]
    },
    {
     "name": "stdout",
     "output_type": "stream",
     "text": [
      "Decode ends at step 338\n",
      "/home/qihao/CS6207/octuple/output/melody_20240418:131658/听海_seg0_1_Seg1.mid\n",
      "Generating 42/60, Name: 听海_seg0_1_Seg1\n",
      "Expected decode length: 112\n"
     ]
    },
    {
     "name": "stderr",
     "output_type": "stream",
     "text": [
      " 11%|██████████▊                                                                                          | 110/1024 [00:01<00:12, 72.03it/s]\n",
      "  1%|▊                                                                                                      | 8/1024 [00:00<00:13, 74.78it/s]"
     ]
    },
    {
     "name": "stdout",
     "output_type": "stream",
     "text": [
      "Decode ends at step 110\n",
      "/home/qihao/CS6207/octuple/output/melody_20240418:131658/隐形的翅膀_seg0_1_Seg2.mid\n",
      "Generating 43/60, Name: 隐形的翅膀_seg0_1_Seg2\n",
      "Expected decode length: 99\n"
     ]
    },
    {
     "name": "stderr",
     "output_type": "stream",
     "text": [
      "  9%|█████████▋                                                                                            | 97/1024 [00:01<00:10, 85.84it/s]\n",
      "  1%|▉                                                                                                      | 9/1024 [00:00<00:11, 86.11it/s]"
     ]
    },
    {
     "name": "stdout",
     "output_type": "stream",
     "text": [
      "Decode ends at step 97\n",
      "/home/qihao/CS6207/octuple/output/melody_20240418:131658/夜空中最亮的星_seg0_1_Seg2.mid\n",
      "Generating 44/60, Name: 夜空中最亮的星_seg0_1_Seg2\n",
      "Expected decode length: 340\n"
     ]
    },
    {
     "name": "stderr",
     "output_type": "stream",
     "text": [
      " 33%|█████████████████████████████████▎                                                                   | 338/1024 [00:04<00:08, 83.64it/s]\n",
      "  1%|▉                                                                                                      | 9/1024 [00:00<00:11, 88.82it/s]"
     ]
    },
    {
     "name": "stdout",
     "output_type": "stream",
     "text": [
      "Decode ends at step 338\n",
      "/home/qihao/CS6207/octuple/output/melody_20240418:131658/柠檬草的味道_seg0_1_Seg1.mid\n",
      "Generating 45/60, Name: 柠檬草的味道_seg0_1_Seg1\n",
      "Expected decode length: 135\n"
     ]
    },
    {
     "name": "stderr",
     "output_type": "stream",
     "text": [
      " 13%|█████████████                                                                                        | 133/1024 [00:01<00:10, 86.08it/s]\n",
      "  1%|▉                                                                                                      | 9/1024 [00:00<00:11, 86.73it/s]"
     ]
    },
    {
     "name": "stdout",
     "output_type": "stream",
     "text": [
      "Decode ends at step 133\n",
      "/home/qihao/CS6207/octuple/output/melody_20240418:131658/小草_seg0_1_Seg1.mid\n",
      "Generating 46/60, Name: 小草_seg0_1_Seg1\n",
      "Expected decode length: 141\n"
     ]
    },
    {
     "name": "stderr",
     "output_type": "stream",
     "text": [
      " 14%|█████████████▋                                                                                       | 139/1024 [00:01<00:12, 73.29it/s]\n",
      "  1%|▊                                                                                                      | 8/1024 [00:00<00:14, 72.03it/s]"
     ]
    },
    {
     "name": "stdout",
     "output_type": "stream",
     "text": [
      "Decode ends at step 139\n",
      "/home/qihao/CS6207/octuple/output/melody_20240418:131658/大王叫我来巡山【万万没想到】_seg0_1_Seg2.mid\n",
      "Generating 47/60, Name: 大王叫我来巡山【万万没想到】_seg0_1_Seg2\n",
      "Expected decode length: 173\n"
     ]
    },
    {
     "name": "stderr",
     "output_type": "stream",
     "text": [
      " 17%|████████████████▊                                                                                    | 171/1024 [00:02<00:12, 70.88it/s]\n",
      "  1%|▊                                                                                                      | 8/1024 [00:00<00:13, 75.42it/s]"
     ]
    },
    {
     "name": "stdout",
     "output_type": "stream",
     "text": [
      "Decode ends at step 171\n",
      "/home/qihao/CS6207/octuple/output/melody_20240418:131658/独家记忆_seg0_1_Seg1.mid\n",
      "Generating 48/60, Name: 独家记忆_seg0_1_Seg1\n",
      "Expected decode length: 125\n"
     ]
    },
    {
     "name": "stderr",
     "output_type": "stream",
     "text": [
      " 12%|████████████▏                                                                                        | 123/1024 [00:01<00:12, 72.51it/s]\n",
      "  1%|▊                                                                                                      | 8/1024 [00:00<00:14, 71.65it/s]"
     ]
    },
    {
     "name": "stdout",
     "output_type": "stream",
     "text": [
      "Decode ends at step 123\n",
      "/home/qihao/CS6207/octuple/output/melody_20240418:131658/再回到从前_seg0_1_Seg2.mid\n",
      "Generating 50/60, Name: 再回到从前_seg0_1_Seg2\n",
      "Expected decode length: 144\n"
     ]
    },
    {
     "name": "stderr",
     "output_type": "stream",
     "text": [
      " 14%|██████████████                                                                                       | 142/1024 [00:01<00:10, 84.97it/s]\n",
      "  1%|▉                                                                                                     | 10/1024 [00:00<00:11, 92.01it/s]"
     ]
    },
    {
     "name": "stdout",
     "output_type": "stream",
     "text": [
      "Decode ends at step 142\n",
      "/home/qihao/CS6207/octuple/output/melody_20240418:131658/相思河_seg0_1_Seg2.mid\n",
      "Generating 51/60, Name: 相思河_seg0_1_Seg2\n",
      "Expected decode length: 189\n"
     ]
    },
    {
     "name": "stderr",
     "output_type": "stream",
     "text": [
      " 18%|██████████████████▍                                                                                  | 187/1024 [00:02<00:09, 87.62it/s]\n",
      "  1%|▉                                                                                                      | 9/1024 [00:00<00:11, 87.88it/s]"
     ]
    },
    {
     "name": "stdout",
     "output_type": "stream",
     "text": [
      "Decode ends at step 187\n",
      "/home/qihao/CS6207/octuple/output/melody_20240418:131658/姐姐_seg0_1_Seg2.mid\n",
      "Generating 52/60, Name: 姐姐_seg0_1_Seg2\n",
      "Expected decode length: 115\n"
     ]
    },
    {
     "name": "stderr",
     "output_type": "stream",
     "text": [
      " 11%|███████████▏                                                                                         | 113/1024 [00:01<00:10, 85.55it/s]\n",
      "  1%|▉                                                                                                      | 9/1024 [00:00<00:11, 89.23it/s]"
     ]
    },
    {
     "name": "stdout",
     "output_type": "stream",
     "text": [
      "Decode ends at step 113\n",
      "/home/qihao/CS6207/octuple/output/melody_20240418:131658/三寸天堂_seg0_1_Seg1.mid\n",
      "Generating 54/60, Name: 三寸天堂_seg0_1_Seg1\n",
      "Expected decode length: 88\n"
     ]
    },
    {
     "name": "stderr",
     "output_type": "stream",
     "text": [
      "  8%|████████▌                                                                                             | 86/1024 [00:00<00:10, 86.57it/s]\n",
      "  1%|▉                                                                                                     | 10/1024 [00:00<00:11, 90.21it/s]"
     ]
    },
    {
     "name": "stdout",
     "output_type": "stream",
     "text": [
      "Decode ends at step 86\n",
      "/home/qihao/CS6207/octuple/output/melody_20240418:131658/在那遥远的地方_seg0_1_Seg3.mid\n",
      "Generating 55/60, Name: 在那遥远的地方_seg0_1_Seg3\n",
      "Expected decode length: 181\n"
     ]
    },
    {
     "name": "stderr",
     "output_type": "stream",
     "text": [
      " 17%|█████████████████▋                                                                                   | 179/1024 [00:02<00:09, 86.55it/s]\n",
      "  1%|▉                                                                                                      | 9/1024 [00:00<00:12, 83.11it/s]"
     ]
    },
    {
     "name": "stdout",
     "output_type": "stream",
     "text": [
      "Decode ends at step 179\n",
      "/home/qihao/CS6207/octuple/output/melody_20240418:131658/夜深人静更想你_seg0_1_Seg1.mid\n",
      "Generating 57/60, Name: 夜深人静更想你_seg0_1_Seg1\n",
      "Expected decode length: 119\n"
     ]
    },
    {
     "name": "stderr",
     "output_type": "stream",
     "text": [
      " 11%|███████████▌                                                                                         | 117/1024 [00:01<00:10, 85.88it/s]\n",
      "  1%|▉                                                                                                      | 9/1024 [00:00<00:12, 83.62it/s]"
     ]
    },
    {
     "name": "stdout",
     "output_type": "stream",
     "text": [
      "Decode ends at step 117\n",
      "/home/qihao/CS6207/octuple/output/melody_20240418:131658/凡人歌_seg0_1_Seg1.mid\n",
      "Generating 58/60, Name: 凡人歌_seg0_1_Seg1\n",
      "Expected decode length: 357\n"
     ]
    },
    {
     "name": "stderr",
     "output_type": "stream",
     "text": [
      " 35%|███████████████████████████████████                                                                  | 355/1024 [00:04<00:08, 81.61it/s]\n"
     ]
    },
    {
     "name": "stdout",
     "output_type": "stream",
     "text": [
      "Decode ends at step 355\n",
      "/home/qihao/CS6207/octuple/output/melody_20240418:131658/带我走_seg0_1_Seg1.mid\n",
      "Generating 59/60, Name: 带我走_seg0_1_Seg1\n"
     ]
    }
   ],
   "source": [
    "infer_l2m()"
   ]
  },
  {
   "cell_type": "code",
   "execution_count": null,
   "id": "7c059b92-56bf-48be-b29d-fbb300da6f20",
   "metadata": {},
   "outputs": [],
   "source": []
  }
 ],
 "metadata": {
  "kernelspec": {
   "display_name": "Python (xailyr)",
   "language": "python",
   "name": "xailyr"
  },
  "language_info": {
   "codemirror_mode": {
    "name": "ipython",
    "version": 3
   },
   "file_extension": ".py",
   "mimetype": "text/x-python",
   "name": "python",
   "nbconvert_exporter": "python",
   "pygments_lexer": "ipython3",
   "version": "3.9.1"
  }
 },
 "nbformat": 4,
 "nbformat_minor": 5
}
